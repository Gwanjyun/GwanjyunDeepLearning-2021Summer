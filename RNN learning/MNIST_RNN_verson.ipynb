{
 "cells": [
  {
   "cell_type": "code",
   "execution_count": 1,
   "id": "77f30823-8ebb-452b-880f-1665b5eccab0",
   "metadata": {},
   "outputs": [],
   "source": [
    "import torch\n",
    "import torch.nn as nn\n",
    "import torch.optim as optim\n",
    "import torch.nn.functional as F\n",
    "\n",
    "import torchvision\n",
    "import torchvision.datasets as dsets\n",
    "import torchvision.transforms as transforms\n",
    "\n",
    "\n",
    "import numpy as np\n",
    "import pandas as pd\n",
    "import matplotlib.pyplot as plt"
   ]
  },
  {
   "cell_type": "code",
   "execution_count": 2,
   "id": "506a1552-f69a-4e36-ba31-52a732c1d151",
   "metadata": {},
   "outputs": [],
   "source": [
    "use_cuda = True\n",
    "device = torch.device('cuda:4' if use_cuda else 'cpu')"
   ]
  },
  {
   "cell_type": "markdown",
   "id": "c598e1f2-e3b4-4c8e-a815-e56451ddaead",
   "metadata": {},
   "source": [
    "# 1、data loader"
   ]
  },
  {
   "cell_type": "markdown",
   "id": "0dfbd9b4-2454-4b07-91ec-08fb32c7cfe1",
   "metadata": {},
   "source": [
    "Loading the MNIST data"
   ]
  },
  {
   "cell_type": "code",
   "execution_count": 3,
   "id": "c71ff097-b503-4af3-a837-a26f70692cf0",
   "metadata": {},
   "outputs": [],
   "source": [
    "dataMNIST_train = dsets.MNIST(\n",
    "    root = 'data',\n",
    "    train = True,\n",
    "    download = True,\n",
    "    transform = transforms.ToTensor()\n",
    ")\n",
    "dataMNIST_test = dsets.MNIST(\n",
    "    root = 'data',\n",
    "    train = False,\n",
    "    download = True,\n",
    "    transform = transforms.ToTensor()\n",
    ")"
   ]
  },
  {
   "cell_type": "code",
   "execution_count": null,
   "id": "cb1dd386-783a-4739-b32f-c83fc125acff",
   "metadata": {},
   "outputs": [],
   "source": []
  },
  {
   "cell_type": "code",
   "execution_count": 10,
   "id": "439bea71-613a-4e62-b54a-ba0fa7c35c5a",
   "metadata": {},
   "outputs": [],
   "source": [
    "dataLoaderMNIST_train = torch.utils.data.DataLoader(\n",
    "    dataset = dataMNIST_train,\n",
    "    batch_size = 128,\n",
    "    shuffle = True,\n",
    ")\n",
    "dataLoaderMNIST_test = torch.utils.data.DataLoader(\n",
    "    dataset = dataMNIST_test,\n",
    "    batch_size = 128,\n",
    "    shuffle = True,\n",
    ")"
   ]
  },
  {
   "cell_type": "code",
   "execution_count": 11,
   "id": "4c9d987d-bf89-4607-b7ab-97dd8f038eea",
   "metadata": {},
   "outputs": [
    {
     "data": {
      "text/plain": [
       "Dataset MNIST\n",
       "    Number of datapoints: 60000\n",
       "    Root location: data\n",
       "    Split: Train\n",
       "    StandardTransform\n",
       "Transform: ToTensor()"
      ]
     },
     "execution_count": 11,
     "metadata": {},
     "output_type": "execute_result"
    }
   ],
   "source": [
    "dataMNIST_train"
   ]
  },
  {
   "cell_type": "code",
   "execution_count": 12,
   "id": "012c19eb-894d-474d-96a3-8a289d3c9d0a",
   "metadata": {},
   "outputs": [
    {
     "data": {
      "text/plain": [
       "Dataset MNIST\n",
       "    Number of datapoints: 10000\n",
       "    Root location: data\n",
       "    Split: Test\n",
       "    StandardTransform\n",
       "Transform: ToTensor()"
      ]
     },
     "execution_count": 12,
     "metadata": {},
     "output_type": "execute_result"
    }
   ],
   "source": [
    "dataMNIST_test"
   ]
  },
  {
   "cell_type": "code",
   "execution_count": 15,
   "id": "9922cb83-d015-40fc-867e-c8d5ee1f540b",
   "metadata": {},
   "outputs": [],
   "source": [
    "x,y = iter(dataLoaderMNIST_train).next()"
   ]
  },
  {
   "cell_type": "code",
   "execution_count": null,
   "id": "ffeccbd6-2853-437f-b9a3-60e4cef28290",
   "metadata": {},
   "outputs": [],
   "source": []
  },
  {
   "cell_type": "code",
   "execution_count": 8,
   "id": "12551af9-0f4e-46c4-b180-45e0158439db",
   "metadata": {},
   "outputs": [
    {
     "data": {
      "text/plain": [
       "(torch.Size([128, 1, 28, 28]), torch.Size([128, 28, 28]))"
      ]
     },
     "execution_count": 8,
     "metadata": {},
     "output_type": "execute_result"
    }
   ],
   "source": [
    "# (batch_size, channel, height, width)\n",
    "# RNN input data shape:(batch_size, seq_size, input_size)\n",
    "x.shape,x.squeeze(1).shape"
   ]
  },
  {
   "cell_type": "code",
   "execution_count": null,
   "id": "245b8a2d-e771-4782-a7d6-1e83fbfd4fa0",
   "metadata": {},
   "outputs": [],
   "source": []
  },
  {
   "cell_type": "code",
   "execution_count": 9,
   "id": "a1e46683-9a09-4315-8662-f58e0d769e07",
   "metadata": {},
   "outputs": [],
   "source": [
    "x = x.squeeze(1)"
   ]
  },
  {
   "cell_type": "code",
   "execution_count": 10,
   "id": "cc4dd7eb-856f-4b64-9100-a24cfd36e33c",
   "metadata": {},
   "outputs": [
    {
     "data": {
      "text/plain": [
       "torch.Size([128])"
      ]
     },
     "execution_count": 10,
     "metadata": {},
     "output_type": "execute_result"
    }
   ],
   "source": [
    "#(batch_size)\n",
    "y.shape"
   ]
  },
  {
   "cell_type": "markdown",
   "id": "90264e55-8c66-4cc9-b539-bf62ce3cf888",
   "metadata": {},
   "source": [
    "# 2、RNN model"
   ]
  },
  {
   "cell_type": "code",
   "execution_count": 11,
   "id": "0c944b89-f245-49c3-9501-dff75177f885",
   "metadata": {},
   "outputs": [],
   "source": [
    "class modelLSTM(nn.Module):\n",
    "    def __init__(self, input_size = 28, hidden_size = 32, num_layers = 1):\n",
    "        super(modelLSTM, self).__init__()\n",
    "        self.lstm = nn.LSTM(\n",
    "            input_size = input_size,\n",
    "            hidden_size = hidden_size,\n",
    "            num_layers = num_layers,\n",
    "            batch_first = True,\n",
    "        )\n",
    "        self.linear = nn.Linear(\n",
    "            in_features = hidden_size*input_size, \n",
    "            out_features = 10\n",
    "        )\n",
    "    \n",
    "    def forward(self, x, state = None):\n",
    "        x = x.view(-1,x.shape[-2],x.shape[-1])\n",
    "        y, next_state = self.lstm(x, state)\n",
    "        y = y.contiguous().view(x.shape[0],-1) # contiguous operation\n",
    "        y = self.linear(y)\n",
    "        y = F.softmax(y,dim = 1)\n",
    "        return y,next_state\n"
   ]
  },
  {
   "cell_type": "code",
   "execution_count": 12,
   "id": "b2403ff3-1b0b-4850-b23e-01bb93db0250",
   "metadata": {},
   "outputs": [],
   "source": [
    "class modelGRU(nn.Module):\n",
    "    def __init__(self, input_size = 28, hidden_size = 32, num_layers = 1):\n",
    "        super(modelGRU, self).__init__()\n",
    "        self.gru = nn.GRU(\n",
    "            input_size = input_size,\n",
    "            hidden_size = hidden_size,\n",
    "            num_layers = num_layers,\n",
    "            batch_first = True,\n",
    "        )\n",
    "        self.linear = nn.Linear(\n",
    "            in_features = hidden_size*input_size, \n",
    "            out_features = 10\n",
    "        )\n",
    "    \n",
    "    def forward(self, x, state = None):\n",
    "        x = x.view(-1,x.shape[-2],x.shape[-1])\n",
    "        y, next_state = self.gru(x, state)\n",
    "        y = y.contiguous().view(x.shape[0],-1) # contiguous operation\n",
    "        y = self.linear(y)\n",
    "        y = F.softmax(y,dim = 1)\n",
    "        return y,next_state\n"
   ]
  },
  {
   "cell_type": "code",
   "execution_count": 13,
   "id": "2040333e-9bd4-4291-84cd-d617f8bee561",
   "metadata": {},
   "outputs": [
    {
     "data": {
      "text/plain": [
       "modelLSTM(\n",
       "  (lstm): LSTM(28, 32, batch_first=True)\n",
       "  (linear): Linear(in_features=896, out_features=10, bias=True)\n",
       ")"
      ]
     },
     "execution_count": 13,
     "metadata": {},
     "output_type": "execute_result"
    }
   ],
   "source": [
    "mylstm = modelLSTM()\n",
    "mylstm.cpu()"
   ]
  },
  {
   "cell_type": "code",
   "execution_count": 14,
   "id": "8326b292-a0e4-445b-a4ba-91a6f4e2f0be",
   "metadata": {},
   "outputs": [
    {
     "data": {
      "text/plain": [
       "modelGRU(\n",
       "  (gru): GRU(28, 32, batch_first=True)\n",
       "  (linear): Linear(in_features=896, out_features=10, bias=True)\n",
       ")"
      ]
     },
     "execution_count": 14,
     "metadata": {},
     "output_type": "execute_result"
    }
   ],
   "source": [
    "mygru = modelGRU()\n",
    "mygru.cpu()"
   ]
  },
  {
   "cell_type": "code",
   "execution_count": 15,
   "id": "c4d00aef-5e89-4946-b2b6-54f383185815",
   "metadata": {},
   "outputs": [],
   "source": [
    "x = torch.randn(32,1,28,28)\n",
    "y,state = mylstm(x)\n",
    "y,state = mygru(x)"
   ]
  },
  {
   "cell_type": "code",
   "execution_count": null,
   "id": "106c4fa9-86cd-4555-8a16-b98580f346af",
   "metadata": {},
   "outputs": [],
   "source": []
  },
  {
   "cell_type": "markdown",
   "id": "f5a1d13f-09a3-4993-892a-3a50bb894eaf",
   "metadata": {},
   "source": [
    "# 3、train_data"
   ]
  },
  {
   "cell_type": "code",
   "execution_count": 16,
   "id": "bcc0147b-5a23-4b76-a8fc-a26e3a854529",
   "metadata": {},
   "outputs": [],
   "source": [
    "optimizerLSTM = optim.Adam(mylstm.parameters(),lr = 0.001,)\n",
    "optimizerGRU = optim.Adam(mygru.parameters(),lr = 0.001,)\n",
    "loss_func = nn.CrossEntropyLoss()"
   ]
  },
  {
   "cell_type": "code",
   "execution_count": 17,
   "id": "c107605f-881b-4e0d-a9dd-e6cc53f90227",
   "metadata": {},
   "outputs": [
    {
     "data": {
      "text/plain": [
       "modelGRU(\n",
       "  (gru): GRU(28, 32, batch_first=True)\n",
       "  (linear): Linear(in_features=896, out_features=10, bias=True)\n",
       ")"
      ]
     },
     "execution_count": 17,
     "metadata": {},
     "output_type": "execute_result"
    }
   ],
   "source": [
    "mylstm.to(device)\n",
    "mygru.to(device)"
   ]
  },
  {
   "cell_type": "code",
   "execution_count": 18,
   "id": "f36f83f8-40b2-4848-b651-a758af87f183",
   "metadata": {},
   "outputs": [
    {
     "name": "stdout",
     "output_type": "stream",
     "text": [
      "epoch:  0--step:  468--loss:1.539--acc:93.39%-----\n",
      "\n",
      "epoch:  1--step:  468--loss:1.506--acc:95.61%-----\n",
      "\n",
      "epoch:  2--step:  468--loss:1.489--acc:96.27%-----\n",
      "\n",
      "epoch:  3--step:  468--loss:1.474--acc:96.72%-----\n",
      "\n",
      "epoch:  4--step:  468--loss:1.474--acc:96.86%-----\n",
      "\n",
      "CPU times: user 55 s, sys: 1.66 s, total: 56.7 s\n",
      "Wall time: 55.7 s\n"
     ]
    }
   ],
   "source": [
    "%%time\n",
    "mylstm.train()\n",
    "for epoch in range(5):\n",
    "    for step,(x,y) in enumerate(dataLoaderMNIST_train):\n",
    "        x = x.cuda(device)\n",
    "        y = y.cuda(device)\n",
    "        y_,state = mylstm(x)\n",
    "        loss = loss_func(y_,y)\n",
    "        \n",
    "        optimizerLSTM.zero_grad()\n",
    "        loss.backward()\n",
    "        optimizerLSTM.step()\n",
    "\n",
    "        print('\\repoch:{epoch:3}--step:{step:5}--loss:{loss:.4}'.format(epoch = epoch, step=step, loss=loss),end = '')\n",
    "    acc = 0\n",
    "    for _,(x,y) in enumerate(dataLoaderMNIST_test):\n",
    "        x = x.cuda(device)\n",
    "        y = y.cuda(device)\n",
    "        y_,state = mylstm(x)\n",
    "        acc += torch.sum(y_.argmax(1) == y)\n",
    "    print('\\repoch:{epoch:3}--step:{step:5}--loss:{loss:.4}--acc:{acc:.4}%-----'.format(epoch = epoch, step=step, loss=loss, acc = acc/10000*100))\n",
    "    print()"
   ]
  },
  {
   "cell_type": "code",
   "execution_count": 19,
   "id": "9a07ea3b-fd6b-4d32-b21d-29e066652fd0",
   "metadata": {},
   "outputs": [
    {
     "name": "stdout",
     "output_type": "stream",
     "text": [
      "epoch:  0--step:  468--loss:1.58--acc:93.05%-----\n",
      "\n",
      "epoch:  1--step:  468--loss:1.493--acc:95.55%-----\n",
      "\n",
      "epoch:  2--step:  468--loss:1.486--acc:96.2%-----\n",
      "\n",
      "epoch:  3--step:  468--loss:1.505--acc:96.92%-----\n",
      "\n",
      "epoch:  4--step:  468--loss:1.511--acc:97.22%-----\n",
      "\n",
      "CPU times: user 52.4 s, sys: 1.31 s, total: 53.8 s\n",
      "Wall time: 52.9 s\n"
     ]
    }
   ],
   "source": [
    "%%time\n",
    "mygru.train()\n",
    "for epoch in range(5):\n",
    "    for step,(x,y) in enumerate(dataLoaderMNIST_train):\n",
    "        x = x.cuda(device)\n",
    "        y = y.cuda(device)\n",
    "        y_,state = mygru(x)\n",
    "        loss = loss_func(y_,y)\n",
    "        \n",
    "        optimizerGRU.zero_grad()\n",
    "        loss.backward()\n",
    "        optimizerGRU.step()\n",
    "\n",
    "        print('\\repoch:{epoch:3}--step:{step:5}--loss:{loss:.4}'.format(epoch = epoch, step=step, loss=loss),end = '')\n",
    "    acc = 0\n",
    "    for _,(x,y) in enumerate(dataLoaderMNIST_test):\n",
    "        x = x.cuda(device)\n",
    "        y = y.cuda(device)\n",
    "        y_,state = mygru(x)\n",
    "        acc += torch.sum(y_.argmax(1) == y)\n",
    "    print('\\repoch:{epoch:3}--step:{step:5}--loss:{loss:.4}--acc:{acc:.4}%-----'.format(epoch = epoch, step=step, loss=loss, acc = acc/10000*100))\n",
    "    print()"
   ]
  },
  {
   "cell_type": "code",
   "execution_count": 23,
   "id": "db8b5c03-d4bf-43ef-ad21-7d39d682fb82",
   "metadata": {},
   "outputs": [
    {
     "data": {
      "text/plain": [
       "(6283.662477558348, 6616.257088846881)"
      ]
     },
     "execution_count": 23,
     "metadata": {},
     "output_type": "execute_result"
    }
   ],
   "source": [
    "FPS_LSTM = 70000*5/55.7\n",
    "FPS_GRU = 70000*5/52.9\n",
    "FPS_LSTM,FPS_GRU"
   ]
  },
  {
   "cell_type": "code",
   "execution_count": 25,
   "id": "af26bf3c-feec-4eed-aacb-b4bda6299629",
   "metadata": {},
   "outputs": [
    {
     "data": {
      "text/plain": [
       "5.293005671077513"
      ]
     },
     "execution_count": 25,
     "metadata": {},
     "output_type": "execute_result"
    }
   ],
   "source": [
    "(FPS_GRU-FPS_LSTM)/FPS_LSTM*100"
   ]
  },
  {
   "cell_type": "code",
   "execution_count": null,
   "id": "280453b8-6b3e-4a9b-8f15-d8c5b2fd090d",
   "metadata": {},
   "outputs": [],
   "source": []
  }
 ],
 "metadata": {
  "kernelspec": {
   "display_name": "Python 3",
   "language": "python",
   "name": "python3"
  },
  "language_info": {
   "codemirror_mode": {
    "name": "ipython",
    "version": 3
   },
   "file_extension": ".py",
   "mimetype": "text/x-python",
   "name": "python",
   "nbconvert_exporter": "python",
   "pygments_lexer": "ipython3",
   "version": "3.8.5"
  }
 },
 "nbformat": 4,
 "nbformat_minor": 5
}
