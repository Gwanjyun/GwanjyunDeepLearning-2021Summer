{
 "cells": [
  {
   "cell_type": "code",
   "execution_count": 1,
   "id": "ad71ae1e-e1e5-48b7-a7c6-773629523f4e",
   "metadata": {},
   "outputs": [],
   "source": [
    "import numpy as np\n",
    "import ctypes"
   ]
  },
  {
   "cell_type": "code",
   "execution_count": 2,
   "id": "2f5b160e-68ae-46c4-9e7b-084fb090ae69",
   "metadata": {},
   "outputs": [
    {
     "name": "stdout",
     "output_type": "stream",
     "text": [
      "Wall time: 0 ns\n"
     ]
    }
   ],
   "source": [
    "%%time\n",
    "r1,c1,r2,c2 = 20,25,25,30\n",
    "matrix1 = np.random.randn(r1,c1)\n",
    "matrix2 = np.random.randn(r2,c2)\n",
    "matrix_result = np.zeros((r1,c2))"
   ]
  },
  {
   "cell_type": "markdown",
   "id": "6eb60089-db3a-4250-b311-5eaa1ce5abac",
   "metadata": {},
   "source": [
    "# 1. Using C language"
   ]
  },
  {
   "cell_type": "code",
   "execution_count": 3,
   "id": "363de112-5239-4b5b-a9ba-ee807d5e9b41",
   "metadata": {},
   "outputs": [],
   "source": [
    "import ctypes"
   ]
  },
  {
   "cell_type": "code",
   "execution_count": 4,
   "id": "53f06452-d3a7-4829-bad8-f94b7d4f0af0",
   "metadata": {},
   "outputs": [],
   "source": [
    "def c_matmul(matrix1,matrix2,r1,c1,r2,c2):\n",
    "    # 加载.dll or .so 文件\n",
    "    lib = ctypes.cdll.LoadLibrary('lib/matmul.so')  \n",
    "    # 定义返回的数据类型\n",
    "    lib.matmul.restype = ctypes.POINTER(ctypes.c_double)\n",
    "    # 定义输入的数据类型和相应的数值\n",
    "    m1 = (ctypes.c_double*(r1*c1))(*list(matrix1.reshape(-1)))\n",
    "    m2 = (ctypes.c_double*(r2*c2))(*list(matrix2.reshape(-1)))\n",
    "    r1_c = ctypes.c_int(r1)\n",
    "    r2_c = ctypes.c_int(r2)\n",
    "    c1_c = ctypes.c_int(c1)\n",
    "    c2_c = ctypes.c_int(c2)\n",
    "    # 运行c函数, 引用的方式运行！\n",
    "    m = lib.matmul(ctypes.byref(m1),ctypes.byref(m2),r1_c,c1_c,r2_c,c2_c)\n",
    "    d = np.array([m[i] for i in range(r1*c2)]).reshape(r1,c2)\n",
    "    return d,m"
   ]
  },
  {
   "cell_type": "code",
   "execution_count": 5,
   "id": "2baa5ea9-1df9-49a6-a538-04a924940255",
   "metadata": {},
   "outputs": [
    {
     "name": "stdout",
     "output_type": "stream",
     "text": [
      "Wall time: 35.9 ms\n"
     ]
    }
   ],
   "source": [
    "%%time\n",
    "for i in range(r1):\n",
    "    for j in range(c2):\n",
    "        a = 0\n",
    "        for k in range(c1):\n",
    "            a += matrix1[i][k]*matrix2[k][j]\n",
    "        matrix_result[i][j] = a"
   ]
  },
  {
   "cell_type": "code",
   "execution_count": 6,
   "id": "d9b04071-5a6b-411b-9d52-2a9fff395093",
   "metadata": {},
   "outputs": [
    {
     "name": "stdout",
     "output_type": "stream",
     "text": [
      "Wall time: 6.95 ms\n"
     ]
    }
   ],
   "source": [
    "%%time\n",
    "m1 = c_matmul(matrix1,matrix2,r1,c1,r2,c2)"
   ]
  },
  {
   "cell_type": "code",
   "execution_count": 7,
   "id": "35a58dda-065c-499f-b535-0bdba78da633",
   "metadata": {},
   "outputs": [
    {
     "name": "stdout",
     "output_type": "stream",
     "text": [
      "Wall time: 986 µs\n"
     ]
    }
   ],
   "source": [
    "%%time\n",
    "m2 = np.matmul(matrix1,matrix2)"
   ]
  },
  {
   "cell_type": "code",
   "execution_count": 8,
   "id": "22ed5f71-3778-438e-9352-b873e5f44289",
   "metadata": {},
   "outputs": [],
   "source": [
    "def c_memory_leak(matrix1,size):\n",
    "    # 加载.dll or .so 文件\n",
    "    lib = ctypes.cdll.LoadLibrary('lib/memory leak.so')  \n",
    "    # 定义返回的数据类型\n",
    "    lib.memory_leak.restype = ctypes.POINTER(ctypes.c_double)\n",
    "    # 定义输入的数据类型和相应的数值\n",
    "    m1 = (ctypes.c_double*size)(*list(matrix1.reshape(-1)))\n",
    "\n",
    "    size_c = ctypes.c_int(size)\n",
    "\n",
    "    # 运行c函数, 引用的方式运行！\n",
    "    m = lib.memory_leak(ctypes.byref(m1),size_c)\n",
    "    d = np.array([m[i] for i in range(size)])\n",
    "    return d,m"
   ]
  },
  {
   "cell_type": "code",
   "execution_count": null,
   "id": "6874cd37-f986-4856-a4f5-86b14da4b8a6",
   "metadata": {},
   "outputs": [],
   "source": []
  }
 ],
 "metadata": {
  "kernelspec": {
   "display_name": "Python 3 (ipykernel)",
   "language": "python",
   "name": "python3"
  },
  "language_info": {
   "codemirror_mode": {
    "name": "ipython",
    "version": 3
   },
   "file_extension": ".py",
   "mimetype": "text/x-python",
   "name": "python",
   "nbconvert_exporter": "python",
   "pygments_lexer": "ipython3",
   "version": "3.7.10"
  }
 },
 "nbformat": 4,
 "nbformat_minor": 5
}
