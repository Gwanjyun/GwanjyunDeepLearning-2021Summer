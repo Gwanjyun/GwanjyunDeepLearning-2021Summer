{
 "cells": [
  {
   "cell_type": "code",
   "execution_count": 1,
   "id": "98719605-56d7-4d1c-ad3a-669c6d48a868",
   "metadata": {},
   "outputs": [],
   "source": [
    "import PySide6\n",
    "import pyqtgraph as pg\n",
    "import numpy as np"
   ]
  },
  {
   "cell_type": "code",
   "execution_count": 2,
   "id": "9f682584-fb4f-4cd7-a1a5-9e5cfe72928a",
   "metadata": {},
   "outputs": [],
   "source": [
    "x = np.arange(2000)\n",
    "y = np.sin(0.01*x)"
   ]
  },
  {
   "cell_type": "code",
   "execution_count": 3,
   "id": "184cf0ca-1e74-4c9c-8897-4f1499c91248",
   "metadata": {},
   "outputs": [
    {
     "data": {
      "text/plain": [
       "0"
      ]
     },
     "execution_count": 3,
     "metadata": {},
     "output_type": "execute_result"
    }
   ],
   "source": [
    "hd = pg.plot(x,y)\n",
    "pg.exec() #一定要有这个玩意"
   ]
  },
  {
   "cell_type": "code",
   "execution_count": null,
   "id": "cf6002a9-1027-465f-b3d8-506b5813f029",
   "metadata": {},
   "outputs": [],
   "source": []
  },
  {
   "cell_type": "code",
   "execution_count": null,
   "id": "fde12ce9-21d5-406a-a3f7-0d5a128f7b74",
   "metadata": {},
   "outputs": [],
   "source": []
  },
  {
   "cell_type": "code",
   "execution_count": null,
   "id": "8448fd92-68b9-4c17-b07f-02001ca59153",
   "metadata": {},
   "outputs": [],
   "source": []
  },
  {
   "cell_type": "code",
   "execution_count": null,
   "id": "fe5337a0-fbdf-43d4-a0b2-cadb600b06f4",
   "metadata": {},
   "outputs": [],
   "source": []
  }
 ],
 "metadata": {
  "kernelspec": {
   "display_name": "Python 3 (ipykernel)",
   "language": "python",
   "name": "python3"
  },
  "language_info": {
   "codemirror_mode": {
    "name": "ipython",
    "version": 3
   },
   "file_extension": ".py",
   "mimetype": "text/x-python",
   "name": "python",
   "nbconvert_exporter": "python",
   "pygments_lexer": "ipython3",
   "version": "3.7.10"
  }
 },
 "nbformat": 4,
 "nbformat_minor": 5
}
