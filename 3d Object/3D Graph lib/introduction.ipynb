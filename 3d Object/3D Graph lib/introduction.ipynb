{
 "cells": [
  {
   "cell_type": "code",
   "execution_count": 1,
   "id": "e8830412-3f15-4e03-bc29-2ece28c46cd1",
   "metadata": {},
   "outputs": [],
   "source": [
    "import pyqtgraph.examples"
   ]
  },
  {
   "cell_type": "code",
   "execution_count": 2,
   "id": "7c8b9732-cea2-4a99-a3f2-29a4252cebec",
   "metadata": {},
   "outputs": [],
   "source": [
    "pyqtgraph.examples.run()"
   ]
  },
  {
   "cell_type": "code",
   "execution_count": null,
   "id": "f1adebf6-c66b-429d-a2ba-a69fc0db8a4e",
   "metadata": {},
   "outputs": [],
   "source": []
  }
 ],
 "metadata": {
  "kernelspec": {
   "display_name": "Python 3 (ipykernel)",
   "language": "python",
   "name": "python3"
  },
  "language_info": {
   "codemirror_mode": {
    "name": "ipython",
    "version": 3
   },
   "file_extension": ".py",
   "mimetype": "text/x-python",
   "name": "python",
   "nbconvert_exporter": "python",
   "pygments_lexer": "ipython3",
   "version": "3.7.10"
  }
 },
 "nbformat": 4,
 "nbformat_minor": 5
}
