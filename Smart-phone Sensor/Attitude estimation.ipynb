{
 "cells": [
  {
   "cell_type": "code",
   "execution_count": 37,
   "id": "68a3f3e1-b19c-4f3f-a39e-ec4bbca598ed",
   "metadata": {},
   "outputs": [],
   "source": [
    "import numpy as np\n",
    "import matplotlib.pyplot as plt\n",
    "from mpl_toolkits.mplot3d import Axes3D"
   ]
  },
  {
   "cell_type": "code",
   "execution_count": 297,
   "id": "6670fe99-d692-4a50-9173-5d80c9e5bf61",
   "metadata": {},
   "outputs": [],
   "source": [
    "class Quaternion:\n",
    "    def __init__(self, x = 0, y = 0, z = 0, s = 0):\n",
    "        self.mean = (s**2 + x**2 + y**2 + z**2)**0.5\n",
    "        self.s,self.x,self.y,self.z = s,x,y,z\n",
    "        self.RotationMatrix()\n",
    "        \n",
    "    def Q2E(self, x, y, z, s = 0):\n",
    "        self.__init__(x,y,z,s)\n",
    "        return self\n",
    "    \n",
    "    def E2Q(self, phi, theta, Phi):\n",
    "        self.phi,self.theta,self.Phi = phi, theta, Phi\n",
    "        self.s = np.cos(phi/2)*np.cos(theta/2)*np.cos(Phi/2) + np.sin(phi/2)*np.sin(theta/2)*np.sin(Phi/2)\n",
    "        self.x = np.sin(phi/2)*np.cos(theta/2)*np.cos(Phi/2) - np.cos(phi/2)*np.sin(theta/2)*np.sin(Phi/2)\n",
    "        self.y = np.cos(phi/2)*np.sin(theta/2)*np.cos(Phi/2) + np.sin(phi/2)*np.cos(theta/2)*np.sin(Phi/2)\n",
    "        self.z = np.cos(phi/2)*np.cos(theta/2)*np.sin(Phi/2) - np.sin(phi/2)*np.sin(theta/2)*np.cos(Phi/2)\n",
    "        self.RotationMatrix()\n",
    "        return self\n",
    "    \n",
    "    def RotationMatrix(self):\n",
    "        s,x,y,z = self.s,self.x,self.y,self.z\n",
    "        mean = (s**2 + x**2 + y**2 + z**2)**0.5\n",
    "        if mean == 0:\n",
    "            mean = 1\n",
    "        s,x,y,z = s/mean,x/mean,y/mean,z/mean\n",
    "        self.phi = np.arctan2(2*(s*x + y*z), 1 - 2*(x**2 + y**2))\n",
    "        self.theta = np.arcsin(2*(s*y - z*x))\n",
    "        self.Phi = np.arctan2(2*(s*z + x*y), 1 - 2*(y**2 + z**2))\n",
    "        \n",
    "        self.R = np.array([[1-2*(y**2 + z**2),     2 * (x*y - s*z),     2 * (s*y + x*z)],\n",
    "                           [  2 * (x*y + s*z), 1 - 2*(x**2 + z**2),     2 * (y*z - s*x)],\n",
    "                           [  2 * (x*z - s*y),     2 * (s*x + y*z), 1 - 2*(x**2 + y**2)]])\n",
    "        \n",
    "#     def Rotate(self, phi, theta, Phi):\n",
    "#         y = self*Quaternion().E2Q(phi, theta, Phi)\n",
    "#         return Quaternion(*list(y.reshape(-1)))\n",
    "#     def dot_mul(self, other):\n",
    "#         Q1 = self\n",
    "#         Q2 = other\n",
    "#         return Q1.s*Q2.s + Q1.x*Q2.x + Q1.y*Q2.y + Q1.z*Q2.z\n",
    "        \n",
    "    def mul(self,other):\n",
    "        sa,xa,ya,za = self.s, self.x, self.y, self.z\n",
    "        sb,xb,yb,zb = other.s, other.x,other.y,other.z\n",
    "        s = sa*sb - xa*xb - ya*yb - za*zb\n",
    "        x = sa*xb + sb*xa + ya*zb - yb*za\n",
    "        y = sa*yb + sb*ya + za*xb - zb*xa\n",
    "        z = sa*zb + sb*za + xa*yb - xb*ya\n",
    "        return Quaternion(x,y,z,s)\n",
    "        \n",
    "    def inverse(self):\n",
    "        return Quaternion(-self.x, -self.y, -self.z, self.s)\n",
    "        \n",
    "    def Rotate(self, vector):\n",
    "        return vector.mul(self).mul(vector.inverse())\n",
    "        \n",
    "        \n",
    "    def __add__(self, vector):\n",
    "        return Quaternion(self.x+vector.x,self.y+vector.y,self.z+vector.z,self.s+vector.s)\n",
    "    \n",
    "    def __mul__(self, c):\n",
    "        self.x, self.y, self.z, self.s = self.x*c, self.y*c, self.z*c, self.s*c\n",
    "        return self\n",
    "        \n",
    "    def __repr__(self):\n",
    "        return '({s},{x},{y},{z})--({phi},{theta},{Phi})'.format(s = self.s, x = self.x, y = self.y, z = self.z, phi = self.phi, theta = self.theta, Phi = self.Phi)"
   ]
  },
  {
   "cell_type": "code",
   "execution_count": 298,
   "id": "b7229fea-b060-4dd2-9b01-392fe2c814b7",
   "metadata": {},
   "outputs": [],
   "source": [
    "def getRotateQuaternion(Q1,Q2):\n",
    "    cosTheta = (Q1.s*Q2.s + Q1.x*Q2.x + Q1.y*Q2.y + Q1.z*Q2.z)/(Q1.mean*Q2.mean)\n",
    "    Theta = np.arccos(cosTheta)\n",
    "    x = Q1.y*Q2.z - Q2.y*Q1.z\n",
    "    y = Q1.z*Q2.x - Q2.z*Q1.x\n",
    "    z = Q1.x*Q2.y - Q2.x*Q1.y\n",
    "    mean = (x**2 + y**2 + z**2)**0.5\n",
    "    vector = Quaternion(np.sin(Theta/2)*x/mean, np.sin(Theta/2)*y/mean, np.sin(Theta/2)*z/mean, np.cos(Theta/2))\n",
    "    return vector"
   ]
  },
  {
   "cell_type": "code",
   "execution_count": null,
   "id": "9a13dd86-27f8-4619-af62-58788db843e5",
   "metadata": {},
   "outputs": [],
   "source": []
  },
  {
   "cell_type": "code",
   "execution_count": 299,
   "id": "8cda64c2-876f-4309-ac68-f5fac7f4e629",
   "metadata": {},
   "outputs": [],
   "source": [
    "g_all = [-4.225172, -0.7840731, 8.8149605]\n",
    "g = Quaternion(0,0,9.8)\n",
    "gx = g_all[0]\n",
    "gy = g_all[1]\n",
    "gz = g_all[2]\n",
    "g_v = Quaternion(-4.225172, -0.7840731, 8.8149605)\n",
    "o = Quaternion()\n",
    "p1 = Quaternion(-5,-5,0)\n",
    "p2 = Quaternion(-5,5,0)\n",
    "p3 = Quaternion(5,5,0)\n",
    "p4 = Quaternion(5,-5,0)"
   ]
  },
  {
   "cell_type": "code",
   "execution_count": 301,
   "id": "c71b532b-2125-41fa-9a1e-cc18b84ac8d6",
   "metadata": {},
   "outputs": [
    {
     "data": {
      "text/plain": [
       "(-2.220446049250313e-16,-4.42050620776767,-4.892462249085633,-2.554004308602367)--(2.546975221473512,-0.4685574424453449,1.818051215358938)"
      ]
     },
     "execution_count": 301,
     "metadata": {},
     "output_type": "execute_result"
    }
   ],
   "source": [
    "r = getRotateQuaternion(g,g_v)\n",
    "p1.Rotate(r)"
   ]
  },
  {
   "cell_type": "code",
   "execution_count": 302,
   "id": "3d2d5858-a5da-4553-8a5d-669acfd9752a",
   "metadata": {},
   "outputs": [],
   "source": [
    "p1_ = p1.Rotate(r)\n",
    "p2_ = p2.Rotate(r)\n",
    "p3_ = p3.Rotate(r)\n",
    "p4_ = p4.Rotate(r)"
   ]
  },
  {
   "cell_type": "code",
   "execution_count": 303,
   "id": "ac736441-c322-4ad7-b54f-e5a0803e584a",
   "metadata": {},
   "outputs": [
    {
     "data": {
      "text/plain": [
       "(-10.0, 10.0)"
      ]
     },
     "execution_count": 303,
     "metadata": {},
     "output_type": "execute_result"
    },
    {
     "data": {
      "image/png": "[encoded data removed]",
      "text/plain": [
       "<Figure size 432x288 with 1 Axes>"
      ]
     },
     "metadata": {
      "needs_background": "light"
     },
     "output_type": "display_data"
    }
   ],
   "source": [
    "fig = plt.figure()\n",
    "# ax = fig.gca(projection='3d')\n",
    "ax = plt.axes(projection='3d')\n",
    "ax.plot([0,gx], [0,gy], [0,gz], label='parametric curve')\n",
    "ax.plot([p1_.x, p2_.x, p3_.x, p4_.x, p1_.x],[p1_.y, p2_.y, p3_.y, p4_.y, p1_.y],[p1_.z, p2_.z, p3_.z, p4_.z, p1_.z],\n",
    "        label='parametric curve')\n",
    "\n",
    "\n",
    "ax.set_xlim3d(-10,10)\n",
    "ax.set_ylim3d(-10,10)\n",
    "ax.set_zlim3d(-10,10)"
   ]
  },
  {
   "cell_type": "code",
   "execution_count": null,
   "id": "b69892e5-e19d-49eb-8208-f25ae3da5b61",
   "metadata": {},
   "outputs": [],
   "source": []
  },
  {
   "cell_type": "code",
   "execution_count": null,
   "id": "0073e466-60ad-4b57-87e7-c393d49728b3",
   "metadata": {},
   "outputs": [],
   "source": []
  },
  {
   "cell_type": "code",
   "execution_count": null,
   "id": "c3413b24-66bf-410d-8cdb-e1509e7414f5",
   "metadata": {},
   "outputs": [],
   "source": []
  },
  {
   "cell_type": "code",
   "execution_count": null,
   "id": "d6f0d89e-0bf7-483b-886b-0636f7105212",
   "metadata": {},
   "outputs": [],
   "source": []
  },
  {
   "cell_type": "code",
   "execution_count": null,
   "id": "1a7edc0c-ebb1-4b07-9c48-cc0cb6b7eb95",
   "metadata": {},
   "outputs": [],
   "source": []
  },
  {
   "cell_type": "code",
   "execution_count": null,
   "id": "e8609c3c-0658-48be-9024-1a3771912fbb",
   "metadata": {},
   "outputs": [],
   "source": []
  },
  {
   "cell_type": "code",
   "execution_count": null,
   "id": "aafecea4-799e-411c-9524-8853cf2e4a8f",
   "metadata": {},
   "outputs": [],
   "source": []
  },
  {
   "cell_type": "code",
   "execution_count": null,
   "id": "d1e18ad8-ebb9-40bc-8530-c79a99fdf1a7",
   "metadata": {},
   "outputs": [],
   "source": []
  }
 ],
 "metadata": {
  "kernelspec": {
   "display_name": "Python 3 (ipykernel)",
   "language": "python",
   "name": "python3"
  },
  "language_info": {
   "codemirror_mode": {
    "name": "ipython",
    "version": 3
   },
   "file_extension": ".py",
   "mimetype": "text/x-python",
   "name": "python",
   "nbconvert_exporter": "python",
   "pygments_lexer": "ipython3",
   "version": "3.7.10"
  }
 },
 "nbformat": 4,
 "nbformat_minor": 5
}
