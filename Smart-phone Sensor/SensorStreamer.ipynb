{
 "cells": [
  {
   "cell_type": "code",
   "execution_count": 1,
   "id": "262c655c-c362-4cd9-92c9-058e4d8fd462",
   "metadata": {},
   "outputs": [],
   "source": [
    "import socket\n",
    "import json\n",
    "import time\n",
    "import threading\n",
    "import numpy as np\n",
    "from Quaternion import *\n",
    "from VectorKalmanFilter import *\n",
    "import matplotlib.pyplot as plt"
   ]
  },
  {
   "cell_type": "code",
   "execution_count": 2,
   "id": "a2f24c5f-06be-4f64-9019-86d24d3ba716",
   "metadata": {},
   "outputs": [],
   "source": [
    "class SensorData:\n",
    "    def __init__(self, ip = '192.168.1.105', port = 6666):\n",
    "        self.ip = ip\n",
    "        self.port = port\n",
    "        self.sock = socket.socket(socket.AF_INET,socket.SOCK_STREAM)#创建一个服务器socket监听\n",
    "        self.sock.connect((self.ip, self.port))\n",
    "        self.data = {}\n",
    "        self.time = time.time()\n",
    "        self.threading = threading.Thread(target=self.setData, args = (self,))\n",
    "        self.threading.start()\n",
    "        \n",
    "    def getData(self):\n",
    "        data = ''\n",
    "        \n",
    "        while True:\n",
    "            b_data = self.sock.recv(256)\n",
    "            data += b_data.decode('utf-8')\n",
    "            try:\n",
    "                jdata = json.loads(data.split('\\n')[-2])\n",
    "                data = ''\n",
    "                break\n",
    "            except:\n",
    "                continue\n",
    "        self.time = time.time()\n",
    "        return jdata\n",
    "    \n",
    "    def setData(self, object):\n",
    "        while True:\n",
    "            self.data = self.getData()\n",
    "            object.data = self.data\n",
    "            \n",
    "    def close(self):\n",
    "        self.sock.close()\n",
    "        \n",
    "    def restart(self):\n",
    "        self.__init__(self.ip, self.port)\n"
   ]
  },
  {
   "cell_type": "code",
   "execution_count": null,
   "id": "05ae806d-0f16-43f3-a1bf-fe285bbf30dd",
   "metadata": {},
   "outputs": [],
   "source": []
  },
  {
   "cell_type": "code",
   "execution_count": 3,
   "id": "77599f6e-bbb8-4c62-a404-13de44f038ca",
   "metadata": {},
   "outputs": [],
   "source": [
    "class motion:\n",
    "    def __init__(self):\n",
    "        #初始状态\n",
    "        self.sx, self.sy, self.sz = 0, 0, 0 \n",
    "        self.vx, self.vy, self.vz = 0, 0, 0\n",
    "        self.ax, self.ay, self.az = 0, 0, 0\n",
    "        \n",
    "        self.sx_list = [0]\n",
    "        self.sy_list = [0]\n",
    "        self.sz_list = [0]\n",
    "        \n",
    "        \n",
    "        self.dt = 0\n",
    "        \n",
    "        self.Sx = np.array([[self.sx], [self.vx], [self.ax]])\n",
    "        self.Sy = np.array([[self.sy], [self.vy], [self.ay]])\n",
    "        self.Sz = np.array([[self.sz], [self.vz], [self.az]])\n",
    "        \n",
    "        self.M = np.ones((3,3))*0.01\n",
    "\n",
    "        #建立 3个滤波器，为了求逆简单!!\n",
    "        self.A = self.setA(self.dt)\n",
    "        self.B = np.array([[0],[0],[1]])\n",
    "        self.H = np.array([[0,0,1]])\n",
    "        self.Q = np.array([[0.2]])\n",
    "        self.C = np.array([[0.3]])\n",
    "        # 卡尔曼滤波\n",
    "        self.kalmanFilerX = VectorKalmanFilter(self.Sx, self.M, self.A, self.B, self.H, self.Q, self.C)\n",
    "        self.kalmanFilerY = VectorKalmanFilter(self.Sy, self.M, self.A, self.B, self.H, self.Q, self.C)\n",
    "        self.kalmanFilerZ = VectorKalmanFilter(self.Sz, self.M, self.A, self.B, self.H, self.Q, self.C)\n",
    "        \n",
    "    def go(self,ax,ay,az,dt):\n",
    "        self.A = self.setA(dt)\n",
    "        self.kalmanFilerX.A = self.A\n",
    "        self.kalmanFilerY.A = self.A\n",
    "        self.kalmanFilerZ.A = self.A\n",
    "        \n",
    "        self.Sx = self.kalmanFilerX.forward(np.array([[ax]]))\n",
    "        self.Sy = self.kalmanFilerY.forward(np.array([[ay]]))\n",
    "        self.Sz = self.kalmanFilerZ.forward(np.array([[az]]))\n",
    "        \n",
    "        self.sx = self.Sx[0,0]\n",
    "        self.sy = self.Sy[0,0]\n",
    "        self.sz = self.Sz[0,0]\n",
    "        self.sx_list.append(self.sx)\n",
    "        self.sy_list.append(self.sy)\n",
    "        self.sz_list.append(self.sz)\n",
    "        \n",
    "        \n",
    "        \n",
    "    def setA(self,dt):\n",
    "        self.A = np.array([[1, dt, dt**2],\n",
    "                           [0,  1,    dt],\n",
    "                           [0,  0,     1]])\n",
    "        return self.A"
   ]
  },
  {
   "cell_type": "code",
   "execution_count": null,
   "id": "98b8386f-7646-40fe-86d1-4eb461d52791",
   "metadata": {},
   "outputs": [],
   "source": []
  },
  {
   "cell_type": "code",
   "execution_count": 4,
   "id": "d166f1ab-63e2-42a1-af40-b6bbfaa74101",
   "metadata": {},
   "outputs": [],
   "source": [
    "def getRotationVector(x,y,z):\n",
    "    v = np.linalg.norm([x,y,z])**2\n",
    "    s = (1-v)**0.5\n",
    "    return Quaternion(x,y,z,s)"
   ]
  },
  {
   "cell_type": "code",
   "execution_count": 5,
   "id": "6f37003c-c6c2-4e39-a1ce-e4b8df7fd6e6",
   "metadata": {},
   "outputs": [],
   "source": [
    "myData = SensorData()"
   ]
  },
  {
   "cell_type": "code",
   "execution_count": 6,
   "id": "a0a8ce61-fab1-44dc-b160-6974a388fff1",
   "metadata": {},
   "outputs": [],
   "source": [
    "while myData.data == {}:\n",
    "    pass"
   ]
  },
  {
   "cell_type": "code",
   "execution_count": 7,
   "id": "d3914246-1ae1-4d8d-b657-d0a58ea3907f",
   "metadata": {},
   "outputs": [],
   "source": [
    "r0 = getRotationVector(*myData.data['rotationVector']['value']).inverse()\n",
    "g = Quaternion(0,0,9.8)\n",
    "o = Quaternion()\n",
    "p1 = Quaternion(-5,-15,0)\n",
    "p2 = Quaternion(-5,15,0)\n",
    "p3 = Quaternion(5,15,0)\n",
    "p4 = Quaternion(5,-15,0)\n",
    "\n",
    "p5 = Quaternion(-5,-15,2)\n",
    "p6 = Quaternion(-5,15,2)\n",
    "p7 = Quaternion(5,15,2)\n",
    "p8 = Quaternion(5,-15,2)\n",
    "sock = socket.socket(socket.AF_INET,socket.SOCK_STREAM)#创建一个服务器socket监听\n",
    "sock.connect(('192.168.1.116',5555))"
   ]
  },
  {
   "cell_type": "code",
   "execution_count": 8,
   "id": "312e26e9-fd54-45b8-a0c6-d41f24e24bf3",
   "metadata": {},
   "outputs": [],
   "source": [
    "i = 0\n",
    "x = []\n",
    "m = motion()"
   ]
  },
  {
   "cell_type": "code",
   "execution_count": 9,
   "id": "384f8f50-f63d-43ab-bbad-1ebf924877f7",
   "metadata": {},
   "outputs": [
    {
     "data": {
      "text/plain": [
       "{'accelerometer': {'timestamp': 26556576813443,\n",
       "  'value': [0.2590027, -0.7761688, 9.695465]},\n",
       " 'gravity': {'timestamp': 26556569306119,\n",
       "  'value': [0.27616847, -0.7854437, 9.771244]},\n",
       " 'gyroscope': {'timestamp': 26556569306119,\n",
       "  'value': [0.00076293945, 0.00036621094, 0.0011291504]},\n",
       " 'linearAcceleration': {'timestamp': 26556569306119,\n",
       "  'value': [-0.014857352, 0.0027095675, 0.0058965683]},\n",
       " 'rotationVector': {'timestamp': 26556569306119,\n",
       "  'value': [-0.042086557, 0.0058280802, -0.45755628]}}"
      ]
     },
     "execution_count": 9,
     "metadata": {},
     "output_type": "execute_result"
    }
   ],
   "source": [
    "myData.data"
   ]
  },
  {
   "cell_type": "code",
   "execution_count": 10,
   "id": "d52c28b9-2498-43ef-80ae-946bafaa8f4b",
   "metadata": {},
   "outputs": [
    {
     "ename": "KeyboardInterrupt",
     "evalue": "",
     "output_type": "error",
     "traceback": [
      "\u001b[1;31m---------------------------------------------------------------------------\u001b[0m",
      "\u001b[1;31mKeyboardInterrupt\u001b[0m                         Traceback (most recent call last)",
      "\u001b[1;32mC:\\Users\\ADMINI~1\\AppData\\Local\\Temp/ipykernel_4668/563721352.py\u001b[0m in \u001b[0;36m<module>\u001b[1;34m\u001b[0m\n\u001b[0;32m     26\u001b[0m     \u001b[0mdataSend\u001b[0m \u001b[1;33m=\u001b[0m \u001b[1;34m'{'\u001b[0m\u001b[1;33m+\u001b[0m \u001b[0mstr\u001b[0m\u001b[1;33m(\u001b[0m\u001b[0mdata1\u001b[0m\u001b[1;33m)\u001b[0m \u001b[1;33m+\u001b[0m \u001b[1;34m';'\u001b[0m \u001b[1;33m+\u001b[0m \u001b[0mstr\u001b[0m\u001b[1;33m(\u001b[0m\u001b[0mdata2\u001b[0m\u001b[1;33m)\u001b[0m \u001b[1;33m+\u001b[0m \u001b[1;34m';'\u001b[0m \u001b[1;33m+\u001b[0m \u001b[0mstr\u001b[0m\u001b[1;33m(\u001b[0m\u001b[0mdata3\u001b[0m\u001b[1;33m)\u001b[0m \u001b[1;33m+\u001b[0m \u001b[1;34m';'\u001b[0m \u001b[1;33m+\u001b[0m \u001b[0mstr\u001b[0m\u001b[1;33m(\u001b[0m\u001b[0mdata4\u001b[0m\u001b[1;33m)\u001b[0m \u001b[1;33m+\u001b[0m \u001b[1;34m';'\u001b[0m \u001b[1;33m+\u001b[0m \u001b[0mstr\u001b[0m\u001b[1;33m(\u001b[0m\u001b[0mdata5\u001b[0m\u001b[1;33m)\u001b[0m \u001b[1;33m+\u001b[0m \u001b[1;34m'}'\u001b[0m\u001b[1;33m\u001b[0m\u001b[1;33m\u001b[0m\u001b[0m\n\u001b[0;32m     27\u001b[0m     \u001b[0msock\u001b[0m\u001b[1;33m.\u001b[0m\u001b[0msend\u001b[0m\u001b[1;33m(\u001b[0m\u001b[0mbytes\u001b[0m\u001b[1;33m(\u001b[0m\u001b[0mdataSend\u001b[0m\u001b[1;33m,\u001b[0m\u001b[1;34m'utf-8'\u001b[0m\u001b[1;33m)\u001b[0m\u001b[1;33m)\u001b[0m\u001b[1;33m\u001b[0m\u001b[1;33m\u001b[0m\u001b[0m\n\u001b[1;32m---> 28\u001b[1;33m     \u001b[0msock\u001b[0m\u001b[1;33m.\u001b[0m\u001b[0mrecv\u001b[0m\u001b[1;33m(\u001b[0m\u001b[1;36m1024\u001b[0m\u001b[1;33m)\u001b[0m\u001b[1;33m\u001b[0m\u001b[1;33m\u001b[0m\u001b[0m\n\u001b[0m",
      "\u001b[1;31mKeyboardInterrupt\u001b[0m: "
     ]
    }
   ],
   "source": [
    "t = time.time()\n",
    "sock.recv(1024)\n",
    "while True:\n",
    "    gx,gy,gz = myData.data['gravity']['value']  # 重力加速度\n",
    "    ax,ay,az = myData.data['linearAcceleration']['value'] # 线性加速度\n",
    "    \n",
    "    r = getRotationVector(*myData.data['rotationVector']['value']) # 旋转矩阵\n",
    "    dt = (time.time() - t) # 时间差\n",
    "    m.go(ax,ay,az,dt) #运动\n",
    "    t = time.time()\n",
    "    p1_ = p1.Rotate(r).Rotate(r0)\n",
    "    p2_ = p2.Rotate(r).Rotate(r0)\n",
    "    p3_ = p3.Rotate(r).Rotate(r0)\n",
    "    p4_ = p4.Rotate(r).Rotate(r0)\n",
    "\n",
    "    p5_ = p5.Rotate(r).Rotate(r0)\n",
    "    p6_ = p6.Rotate(r).Rotate(r0)\n",
    "    p7_ = p7.Rotate(r).Rotate(r0)\n",
    "    p8_ = p8.Rotate(r).Rotate(r0)\n",
    "    \n",
    "    data1 = [gx,gy,gz]\n",
    "    data2 = [p1_.x, p2_.x, p3_.x, p4_.x, p1_.x, p5_.x, p6_.x, p2_.x, p6_.x, p7_.x, p3_.x, p7_.x, p8_.x, p4_.x, p8_.x,p5_.x]\n",
    "    data3 = [p1_.y, p2_.y, p3_.y, p4_.y, p1_.y, p5_.y, p6_.y, p2_.y, p6_.y, p7_.y, p3_.y, p7_.y, p8_.y, p4_.y, p8_.y,p5_.y]\n",
    "    data4 = [p1_.z, p2_.z, p3_.z, p4_.z, p1_.z, p5_.z, p6_.z, p2_.z, p6_.z, p7_.z, p3_.z, p7_.z, p8_.z, p4_.z, p8_.z,p5_.z]\n",
    "    data5 = [m.sx,m.sy,m.sz]\n",
    "    dataSend = '{'+ str(data1) + ';' + str(data2) + ';' + str(data3) + ';' + str(data4) + ';' + str(data5) + '}' \n",
    "    sock.send(bytes(dataSend,'utf-8'))\n",
    "    sock.recv(1024)"
   ]
  },
  {
   "cell_type": "code",
   "execution_count": null,
   "id": "f8d7ca27-4d7c-446b-b3a1-9dccfb850686",
   "metadata": {},
   "outputs": [],
   "source": [
    "0.8520445732242607**2 + 0.03458354**2 + 0.020975312**2 + 0.27101845**2"
   ]
  },
  {
   "cell_type": "code",
   "execution_count": 11,
   "id": "98723267-e053-408d-a9a9-96b5f2078abd",
   "metadata": {},
   "outputs": [
    {
     "data": {
      "text/plain": [
       "[<matplotlib.lines.Line2D at 0x28c5a242308>]"
      ]
     },
     "execution_count": 11,
     "metadata": {},
     "output_type": "execute_result"
    },
    {
     "data": {
      "image/png": "[encoded data removed]",
      "text/plain": [
       "<Figure size 432x288 with 1 Axes>"
      ]
     },
     "metadata": {
      "needs_background": "light"
     },
     "output_type": "display_data"
    }
   ],
   "source": [
    "plt.plot(m.sx_list,m.sy_list)"
   ]
  },
  {
   "cell_type": "code",
   "execution_count": null,
   "id": "fb0d9a5c-658b-44e0-8d69-434b49e16d01",
   "metadata": {},
   "outputs": [],
   "source": [
    "dt"
   ]
  },
  {
   "cell_type": "code",
   "execution_count": null,
   "id": "5c91e3af-a01d-4d77-8427-138a45e62266",
   "metadata": {},
   "outputs": [],
   "source": []
  },
  {
   "cell_type": "code",
   "execution_count": null,
   "id": "bbf34a45-c22a-4e73-8ad3-d066fa512121",
   "metadata": {},
   "outputs": [],
   "source": []
  }
 ],
 "metadata": {
  "kernelspec": {
   "display_name": "Python 3 (ipykernel)",
   "language": "python",
   "name": "python3"
  },
  "language_info": {
   "codemirror_mode": {
    "name": "ipython",
    "version": 3
   },
   "file_extension": ".py",
   "mimetype": "text/x-python",
   "name": "python",
   "nbconvert_exporter": "python",
   "pygments_lexer": "ipython3",
   "version": "3.7.10"
  }
 },
 "nbformat": 4,
 "nbformat_minor": 5
}
