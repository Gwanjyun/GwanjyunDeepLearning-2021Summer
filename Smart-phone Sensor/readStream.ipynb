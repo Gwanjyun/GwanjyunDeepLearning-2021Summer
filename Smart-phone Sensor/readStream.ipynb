{
 "cells": [
  {
   "cell_type": "code",
   "execution_count": 1,
   "id": "7170eaf3-54b6-4e2b-a4fe-c6943e375fcd",
   "metadata": {},
   "outputs": [],
   "source": [
    "import socket\n",
    "import json\n",
    "import time\n",
    "import threading\n",
    "import numpy as np"
   ]
  },
  {
   "cell_type": "code",
   "execution_count": 2,
   "id": "96745692-b888-4729-963e-c370a1263e6d",
   "metadata": {},
   "outputs": [],
   "source": [
    "class SensorData:\n",
    "    def __init__(self, ip = '192.168.1.105', port = 6666):\n",
    "        self.ip = ip\n",
    "        self.port = port\n",
    "        self.sock = socket.socket(socket.AF_INET,socket.SOCK_STREAM)#创建一个服务器socket监听\n",
    "        self.sock.connect((self.ip, self.port))\n",
    "        self.data = {}\n",
    "        self.time = time.time()\n",
    "        self.threading = threading.Thread(target=self.setData, args = (self,))\n",
    "        self.threading.start()\n",
    "        \n",
    "    def getData(self):\n",
    "        data = ''\n",
    "        \n",
    "        while True:\n",
    "            b_data = self.sock.recv(256)\n",
    "            data += b_data.decode('utf-8')\n",
    "            try:\n",
    "                jdata = json.loads(data.split('\\n')[-2])\n",
    "                data = ''\n",
    "                break\n",
    "            except:\n",
    "                continue\n",
    "        self.time = time.time()\n",
    "        return jdata\n",
    "    \n",
    "    def setData(self, object):\n",
    "        while True:\n",
    "            self.data = self.getData()\n",
    "            object.data = self.data\n",
    "            \n",
    "    def close(self):\n",
    "        self.sock.close()\n",
    "        \n",
    "    def restart(self):\n",
    "        self.__init__(self.ip, self.port)"
   ]
  },
  {
   "cell_type": "code",
   "execution_count": 3,
   "id": "f9a967e2-6e0f-4434-8061-ba135a8ed78b",
   "metadata": {},
   "outputs": [],
   "source": [
    "myData = SensorData()"
   ]
  },
  {
   "cell_type": "code",
   "execution_count": 25,
   "id": "6b5fff4b-1349-4333-89e3-b02b49b9b42b",
   "metadata": {},
   "outputs": [
    {
     "data": {
      "text/plain": [
       "(1628410365.2298205,\n",
       " {'accelerometer': {'timestamp': 666920099796666,\n",
       "   'value': [0.22068787, -0.74983215, 9.685883]},\n",
       "  'gravity': {'timestamp': 666920083774937,\n",
       "   'value': [0.21182369, -0.7642865, 9.774528]},\n",
       "  'gyroscope': {'timestamp': 666920083774937,\n",
       "   'value': [0.0010375977, 0.00030517578, -0.00030517578]},\n",
       "  'linearAcceleration': {'timestamp': 666920083774937,\n",
       "   'value': [0.010644287, 0.008031607, -0.006503105]},\n",
       "  'rotationVector': {'timestamp': 666920083774937,\n",
       "   'value': [-0.040291056, -0.0038000115, -0.17527409]}})"
      ]
     },
     "execution_count": 25,
     "metadata": {},
     "output_type": "execute_result"
    }
   ],
   "source": [
    "myData.time,myData.data"
   ]
  },
  {
   "cell_type": "code",
   "execution_count": null,
   "id": "d967f891-55c7-486a-a326-a0ba57dc3370",
   "metadata": {},
   "outputs": [],
   "source": []
  },
  {
   "cell_type": "code",
   "execution_count": null,
   "id": "9bcf0949-86a7-48d7-acee-f6662a51f236",
   "metadata": {},
   "outputs": [],
   "source": []
  }
 ],
 "metadata": {
  "kernelspec": {
   "display_name": "Python 3 (ipykernel)",
   "language": "python",
   "name": "python3"
  },
  "language_info": {
   "codemirror_mode": {
    "name": "ipython",
    "version": 3
   },
   "file_extension": ".py",
   "mimetype": "text/x-python",
   "name": "python",
   "nbconvert_exporter": "python",
   "pygments_lexer": "ipython3",
   "version": "3.7.10"
  }
 },
 "nbformat": 4,
 "nbformat_minor": 5
}
