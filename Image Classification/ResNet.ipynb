{
 "cells": [
  {
   "cell_type": "markdown",
   "id": "087fba56-6d56-42c4-a2fc-0e7d97d94f43",
   "metadata": {},
   "source": [
    "# Image Classification"
   ]
  },
  {
   "cell_type": "markdown",
   "id": "5b2fb98f-58d3-4460-bdd9-084aacfa305f",
   "metadata": {},
   "source": [
    "## Data set: 1. MNIST; 2. Cifar-10; 3. classify-leaves"
   ]
  },
  {
   "cell_type": "code",
   "execution_count": 1,
   "id": "86b62976-a702-408c-8eb6-f650e08f7b63",
   "metadata": {},
   "outputs": [],
   "source": [
    "import torch\n",
    "import torch.nn as nn\n",
    "from torch.functional import F\n",
    "import torch.optim as optim\n",
    "\n",
    "import torchvision\n",
    "import torchvision.transforms as transforms\n",
    "\n",
    "import numpy as np\n",
    "import matplotlib.pyplot as plt\n",
    "\n",
    "%config InlineBackend.figure_format = 'svg'"
   ]
  },
  {
   "cell_type": "code",
   "execution_count": 2,
   "id": "b355079b-8d41-4037-8fbc-085ccd8b8f5c",
   "metadata": {},
   "outputs": [],
   "source": [
    "use_cuda = True\n",
    "device = torch.device('cuda:0' if use_cuda else 'cpu')"
   ]
  },
  {
   "cell_type": "code",
   "execution_count": 3,
   "id": "28c7cb71-a968-4590-8f1d-98fc70f54009",
   "metadata": {},
   "outputs": [],
   "source": [
    "mytransforms = transforms.Compose([transforms.ToTensor()])\n",
    "MNIST_data_train = torchvision.datasets.MNIST(root = 'data', train = True, download = True, transform = mytransforms)\n",
    "MNIST_dataloader_train = torch.utils.data.DataLoader(MNIST_data_train, batch_size = 256, shuffle = True)\n",
    "MNIST_data_test = torchvision.datasets.MNIST(root = 'data', train = False, download = True, transform = mytransforms)\n",
    "MNIST_dataloader_test = torch.utils.data.DataLoader(MNIST_data_test, batch_size = 256, shuffle = False)"
   ]
  },
  {
   "cell_type": "code",
   "execution_count": 4,
   "id": "5ed01b4e-efb5-4e71-82fa-c9fd39a2c523",
   "metadata": {},
   "outputs": [],
   "source": [
    "x,y = iter(MNIST_dataloader_train).next()\n",
    "x = x.cuda(device)\n",
    "y = y.cuda(device)"
   ]
  },
  {
   "cell_type": "code",
   "execution_count": 5,
   "id": "f5e5ae88-7add-471d-b330-91016b8dfe9d",
   "metadata": {},
   "outputs": [],
   "source": [
    "class BasicBlock(nn.Module):\n",
    "    def __init__(self, input_channels, num_channels, stride = 1, downsample = None):\n",
    "        super(BasicBlock, self).__init__()\n",
    "        self.conv1 = nn.Conv2d(input_channels, num_channels, 3, stride = 1, padding = 1)\n",
    "        self.conv2 = nn.Conv2d(num_channels, num_channels, 3, stride = stride, padding = 1)\n",
    "        self.conv3 = nn.Conv2d(input_channels, num_channels, 1, stride = stride)\n",
    "        \n",
    "        self.bn1 = nn.BatchNorm2d(num_channels)\n",
    "        self.bn2 = nn.BatchNorm2d(num_channels)\n",
    "        \n",
    "        self.relu = nn.ReLU(inplace = True)\n",
    "        \n",
    "    def forward(self, x):\n",
    "        out = self.conv1(x)\n",
    "        out = self.bn1(out)\n",
    "        out = F.relu(out)\n",
    "        \n",
    "        out = self.conv2(out)\n",
    "        out = self.bn2(out)\n",
    "        out = F.relu(out)\n",
    "        \n",
    "        x = self.conv3(x)\n",
    "        \n",
    "        Y = F.relu(out + x)\n",
    "        return Y"
   ]
  },
  {
   "cell_type": "code",
   "execution_count": 6,
   "id": "6860c43b-3128-4a26-aa12-d1343c2ec8d6",
   "metadata": {},
   "outputs": [],
   "source": [
    "def Resnet_block(input_channels, num_channels, num_layers):\n",
    "    blk = []\n",
    "    for i in range(num_layers):\n",
    "        blk.append(BasicBlock(input_channels, num_channels, stride = 2))\n",
    "        input_channels = num_channels\n",
    "    return blk"
   ]
  },
  {
   "cell_type": "code",
   "execution_count": 7,
   "id": "13dbfc1a-ea9f-4737-86f4-cc657ef278ee",
   "metadata": {},
   "outputs": [],
   "source": [
    "class Resnet_MNIST(nn.Module):\n",
    "    def __init__(self, input_channels, num_channels):\n",
    "        super(Resnet_MNIST, self).__init__()\n",
    "        self.b1 = nn.Sequential(\n",
    "            nn.Conv2d(input_channels, 64, 3, 1, 1),\n",
    "            nn.BatchNorm2d(64),\n",
    "            nn.ReLU(inplace = True),\n",
    "        )\n",
    "        self.b2 = nn.Sequential(*Resnet_block(64,64,2))\n",
    "        self.b3 = nn.Sequential(*Resnet_block(64,128,2))\n",
    "        self.b4 = nn.Sequential(*Resnet_block(128,256,2))\n",
    "        self.b5 = nn.Sequential(*Resnet_block(256,512,2))\n",
    "        self.avgpool = nn.AdaptiveAvgPool2d(1)\n",
    "        self.flatten = nn.Flatten()\n",
    "        self.linear = nn.Linear(512, num_channels)\n",
    "        self.softmax = nn.Softmax(dim = 1)\n",
    "        \n",
    "        \n",
    "    def forward(self, x):\n",
    "        x = self.b1(x)\n",
    "        x = self.b2(x)\n",
    "        x = self.b3(x)\n",
    "        x = self.b4(x)\n",
    "        x = self.b5(x)\n",
    "        x = self.avgpool(x)\n",
    "        x = self.flatten(x)\n",
    "        x = self.linear(x)\n",
    "        out = self.softmax(x)\n",
    "        return out"
   ]
  },
  {
   "cell_type": "code",
   "execution_count": 8,
   "id": "63a7e79c-078a-41f6-a3d6-7936f2de0154",
   "metadata": {
    "tags": []
   },
   "outputs": [
    {
     "data": {
      "text/plain": [
       "True"
      ]
     },
     "execution_count": 8,
     "metadata": {},
     "output_type": "execute_result"
    }
   ],
   "source": [
    "myResnet_MNIST = Resnet_MNIST(1,10)\n",
    "myResnet_MNIST.to(device)\n",
    "myResnet_MNIST.training"
   ]
  },
  {
   "cell_type": "code",
   "execution_count": 9,
   "id": "7281df9d-f096-4f49-a069-69a0cf9ac961",
   "metadata": {},
   "outputs": [],
   "source": [
    "x,y = iter(MNIST_dataloader_train).next()\n",
    "x = x.cuda(device)\n",
    "y = y.cuda(device)\n",
    "y_ = myResnet_MNIST(x)"
   ]
  },
  {
   "cell_type": "code",
   "execution_count": 10,
   "id": "ced90a04-f330-4ea8-acfc-f3d6b911a9c7",
   "metadata": {},
   "outputs": [
    {
     "data": {
      "text/plain": [
       "tensor([1, 8, 7, 8, 1, 0, 1, 8, 7, 0, 8, 8, 1, 1, 8, 1, 8, 1, 1, 1, 1, 8, 8, 8,\n",
       "        1, 1, 3, 8, 7, 8, 8, 8, 8, 1, 2, 8, 8, 1, 8, 8, 7, 5, 8, 8, 1, 9, 1, 8,\n",
       "        8, 8, 1, 1, 1, 8, 8, 7, 3, 2, 1, 8, 1, 1, 2, 1, 8, 8, 7, 8, 8, 1, 8, 7,\n",
       "        1, 0, 8, 1, 1, 8, 1, 2, 7, 8, 1, 8, 1, 8, 8, 3, 8, 8, 8, 1, 1, 8, 7, 3,\n",
       "        8, 8, 1, 8, 8, 8, 1, 5, 8, 8, 3, 8, 1, 8, 8, 8, 8, 8, 8, 2, 1, 8, 8, 8,\n",
       "        1, 1, 1, 1, 1, 1, 1, 8, 8, 8, 8, 7, 8, 8, 0, 3, 1, 7, 3, 2, 8, 1, 3, 1,\n",
       "        1, 8, 8, 8, 3, 1, 8, 2, 1, 1, 0, 8, 8, 2, 8, 1, 8, 5, 2, 1, 8, 1, 8, 8,\n",
       "        1, 8, 1, 8, 2, 1, 2, 1, 8, 8, 8, 7, 8, 8, 1, 7, 1, 7, 3, 1, 1, 8, 7, 1,\n",
       "        1, 1, 8, 1, 7, 3, 8, 2, 8, 1, 1, 8, 1, 1, 8, 1, 1, 8, 3, 1, 1, 1, 8, 1,\n",
       "        5, 2, 1, 8, 8, 1, 2, 5, 8, 3, 1, 1, 8, 2, 2, 5, 8, 8, 8, 1, 8, 8, 8, 3,\n",
       "        8, 8, 1, 1, 1, 8, 1, 1, 8, 2, 1, 7, 1, 8, 2, 1], device='cuda:0')"
      ]
     },
     "execution_count": 10,
     "metadata": {},
     "output_type": "execute_result"
    }
   ],
   "source": [
    "torch.argmax(y_, 1)"
   ]
  },
  {
   "cell_type": "code",
   "execution_count": 11,
   "id": "7d8ba522-4711-4771-b5d0-044380a80333",
   "metadata": {},
   "outputs": [],
   "source": [
    "optimizer = optim.Adam(myResnet_MNIST.parameters(), lr = 0.001)\n",
    "loss_func = nn.CrossEntropyLoss()"
   ]
  },
  {
   "cell_type": "code",
   "execution_count": 12,
   "id": "cf1c2a31-c94a-499a-97e9-e06f00a67e84",
   "metadata": {},
   "outputs": [],
   "source": [
    "myResnet_MNIST.train()\n",
    "for epoch in range(0):\n",
    "    for step,(x,y) in enumerate(MNIST_dataloader_train):\n",
    "        x = x.cuda(device)\n",
    "        y = y.cuda(device)\n",
    "        y_ = myResnet_MNIST(x)\n",
    "        \n",
    "        loss = loss_func(y_,y)\n",
    "        \n",
    "        optimizer.zero_grad()\n",
    "        loss.backward()\n",
    "        optimizer.step()\n",
    "        \n",
    "        acc = torch.sum(torch.argmax(y_, 1) == y)/y.shape[0]\n",
    "        print('\\r epoch:{epoch:5}--step:{step:7}--loss:{loss:.10}--acc:{acc:.5}'.format(epoch=epoch, step=step, loss=loss,acc = acc),end = '')"
   ]
  },
  {
   "cell_type": "code",
   "execution_count": 13,
   "id": "085218e9-d703-4c74-8c3e-59e4f79036c0",
   "metadata": {},
   "outputs": [],
   "source": [
    "# torch.save(myResnet_MNIST, 'model/Resnet_MNIST.pt')\n",
    "myResnet_MNIST_test = torch.load('model/Resnet_MNIST.pt')"
   ]
  },
  {
   "cell_type": "code",
   "execution_count": 14,
   "id": "1017bdc1-2b40-413e-b87c-c2a4dde9de0d",
   "metadata": {},
   "outputs": [
    {
     "name": "stdout",
     "output_type": "stream",
     "text": [
      " 39"
     ]
    },
    {
     "data": {
      "text/plain": [
       "tensor(0.9560, device='cuda:0')"
      ]
     },
     "execution_count": 14,
     "metadata": {},
     "output_type": "execute_result"
    }
   ],
   "source": [
    "myResnet_MNIST_test.eval()\n",
    "den = 0\n",
    "num = 0\n",
    "for step,(x,y) in enumerate(MNIST_dataloader_test):\n",
    "    x = x.cuda(device)\n",
    "    y = y.cuda(device)\n",
    "    y_ = myResnet_MNIST_test(x)\n",
    "    num += torch.sum(torch.argmax(y_, 1) == y)\n",
    "    den += y.shape[0]\n",
    "    print('\\r',step,end='')\n",
    "acc = num/den\n",
    "acc"
   ]
  },
  {
   "cell_type": "code",
   "execution_count": null,
   "id": "9d3bbeff-5d5f-459c-8c38-a17085807f9f",
   "metadata": {},
   "outputs": [],
   "source": []
  },
  {
   "cell_type": "code",
   "execution_count": 15,
   "id": "535a8d97-fc94-4467-8e06-582d40ae7437",
   "metadata": {},
   "outputs": [
    {
     "name": "stdout",
     "output_type": "stream",
     "text": [
      "Files already downloaded and verified\n",
      "Files already downloaded and verified\n",
      "Files already downloaded and verified\n",
      "Files already downloaded and verified\n"
     ]
    }
   ],
   "source": [
    "mytransforms = transforms.Compose([transforms.ToTensor()])\n",
    "Cifar10_data_train = torchvision.datasets.CIFAR10(root = 'data', train = True, download = True, transform = mytransforms)\n",
    "Cifar10_dataloader_train = torch.utils.data.DataLoader(Cifar10_data_train, batch_size = 256, shuffle = True)\n",
    "Cifar10_data_test = torchvision.datasets.CIFAR10(root = 'data', train = False, download = True, transform = mytransforms)\n",
    "Cifar10_dataloader_test = torch.utils.data.DataLoader(Cifar10_data_test, batch_size = 256, shuffle = False)\n",
    "\n",
    "Cifar100_data_train = torchvision.datasets.CIFAR100(root = 'data', train = True, download = True, transform = mytransforms)\n",
    "Cifar100_dataloader_train = torch.utils.data.DataLoader(Cifar100_data_train, batch_size = 256, shuffle = True)\n",
    "Cifar100_data_test = torchvision.datasets.CIFAR100(root = 'data', train = False, download = True, transform = mytransforms)\n",
    "Cifar100_dataloader_test = torch.utils.data.DataLoader(Cifar100_data_test, batch_size = 256, shuffle = False)"
   ]
  },
  {
   "cell_type": "code",
   "execution_count": null,
   "id": "ce5cd407-6889-4fed-b820-74a647fa9bfa",
   "metadata": {},
   "outputs": [],
   "source": []
  },
  {
   "cell_type": "code",
   "execution_count": null,
   "id": "93d9d48a-6df8-4eea-b2c1-a52b433be215",
   "metadata": {},
   "outputs": [],
   "source": []
  },
  {
   "cell_type": "code",
   "execution_count": null,
   "id": "da9b7bd3-6a95-4ea7-ad7a-e2645c987c14",
   "metadata": {},
   "outputs": [],
   "source": []
  },
  {
   "cell_type": "code",
   "execution_count": null,
   "id": "bf813a63-3ef0-40be-a94c-ed5df1902583",
   "metadata": {},
   "outputs": [],
   "source": []
  }
 ],
 "metadata": {
  "kernelspec": {
   "display_name": "Python 3",
   "language": "python",
   "name": "python3"
  },
  "language_info": {
   "codemirror_mode": {
    "name": "ipython",
    "version": 3
   },
   "file_extension": ".py",
   "mimetype": "text/x-python",
   "name": "python",
   "nbconvert_exporter": "python",
   "pygments_lexer": "ipython3",
   "version": "3.8.5"
  }
 },
 "nbformat": 4,
 "nbformat_minor": 5
}
