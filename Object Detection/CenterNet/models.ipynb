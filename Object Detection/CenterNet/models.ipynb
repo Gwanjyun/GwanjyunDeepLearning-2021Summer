{
 "cells": [
  {
   "cell_type": "code",
   "execution_count": 103,
   "id": "e1916a02-da18-412e-aa61-9ba617eed806",
   "metadata": {},
   "outputs": [],
   "source": [
    "import torch\n",
    "import torch.nn as nn\n",
    "import torch.optim as optim\n",
    "import torch.nn.functional as F\n",
    "\n",
    "import torchvision\n",
    "import math\n",
    "import matplotlib.pyplot as plt"
   ]
  },
  {
   "cell_type": "code",
   "execution_count": 2,
   "id": "96b794c0-10a6-40b7-8e19-46b4527f680f",
   "metadata": {},
   "outputs": [],
   "source": [
    "class CenterNet_ResNet_backbone(nn.Module):\n",
    "    def __init__(self, downsample = 4):\n",
    "        super(CenterNet_ResNet_backbone, self).__init__()\n",
    "        # pre-process\n",
    "        self.preprocess = None\n",
    "        # resnet backbone, down sample\n",
    "        self.resnetBackbone = self._make_backbone()\n",
    "        # up sample\n",
    "        num_layer = 5 - int(math.log2(downsample))\n",
    "        self.upsample = self._make_deconv_layer(num_layer)\n",
    "        \n",
    "        \n",
    "    def forward(self, x):\n",
    "        x_pre = x\n",
    "        if self.preprocess is not None:\n",
    "            x_pre = self.preprocess(x)\n",
    "        \n",
    "        x = self.resnetBackbone(x_pre)\n",
    "        x = self.upsample(x)\n",
    "        return x, x_pre\n",
    "    \n",
    "    def _make_deconv_layer(self, num_layer):\n",
    "        inplanes = 2048\n",
    "        outplanes = 1024\n",
    "        layers = []\n",
    "        for i in range(num_layer):\n",
    "            fc = [\n",
    "                        nn.Conv2d(inplanes, outplanes, 3, 1, 1),\n",
    "                        nn.BatchNorm2d(outplanes),\n",
    "                        nn.ReLU(inplace = True)\n",
    "            ]\n",
    "            up = [\n",
    "                        nn.ConvTranspose2d(outplanes, outplanes, 4, 2, 1),\n",
    "                        nn.BatchNorm2d(outplanes),\n",
    "                        nn.ReLU(inplace = True)\n",
    "            ]\n",
    "            layers.extend(fc)\n",
    "            layers.extend(up)\n",
    "            inplanes = outplanes\n",
    "            outplanes = int(outplanes/2)\n",
    "        return nn.Sequential(*layers)\n",
    "    \n",
    "    def _make_backbone(self):\n",
    "        resnet = torchvision.models.resnet50(pretrained=True)\n",
    "        backboneList = [\n",
    "                        resnet.conv1, resnet.bn1, \n",
    "                        resnet.relu, resnet.maxpool,\n",
    "                        resnet.layer1, resnet.layer2,\n",
    "                        resnet.layer3, resnet.layer4\n",
    "                        ]\n",
    "        return nn.Sequential(*backboneList)"
   ]
  },
  {
   "cell_type": "code",
   "execution_count": 3,
   "id": "9f97f374-4ba9-4e80-a91a-83b562eb6b5b",
   "metadata": {},
   "outputs": [],
   "source": [
    "centerResNetBackbone = CenterNet_ResNet_backbone()"
   ]
  },
  {
   "cell_type": "code",
   "execution_count": 552,
   "id": "e83e5e28-6cc1-4093-8e62-f8e96c118d60",
   "metadata": {},
   "outputs": [
    {
     "data": {
      "text/plain": [
       "torch.Size([5, 256, 128, 128])"
      ]
     },
     "execution_count": 552,
     "metadata": {},
     "output_type": "execute_result"
    }
   ],
   "source": [
    "x= torch.randn(5, 3, 512, 512)\n",
    "centerResNetBackbone(x)[0].shape"
   ]
  },
  {
   "cell_type": "code",
   "execution_count": 744,
   "id": "da5c8fe9-f20b-49a1-8f07-d450a7afff48",
   "metadata": {},
   "outputs": [],
   "source": [
    "class CenterNet_Network(nn.Module):\n",
    "    def __init__(self, num_classes = 1, downsample = 4):\n",
    "        super(CenterNet_Network, self).__init__()\n",
    "        self.downsample = downsample\n",
    "        self.centerNet_ResNet_backbone = CenterNet_ResNet_backbone(downsample)\n",
    "        outplanes = 2**(10 - int(math.log2(downsample)))\n",
    "        self.heatmap_network = nn.Sequential(\n",
    "            nn.Conv2d(outplanes, outplanes, 3, 1, 1),\n",
    "            nn.BatchNorm2d(outplanes),\n",
    "            nn.ReLU(inplace=True),\n",
    "            nn.Conv2d(outplanes, num_classes, 1),\n",
    "            nn.BatchNorm2d(num_classes),\n",
    "            nn.Sigmoid()\n",
    "        )\n",
    "        self.size_network = nn.Sequential(\n",
    "            nn.Conv2d(outplanes, outplanes, 3, 1, 1),\n",
    "            nn.BatchNorm2d(outplanes),\n",
    "            nn.ReLU(inplace=True),\n",
    "            nn.Conv2d(outplanes, 2, 1),\n",
    "            nn.BatchNorm2d(2),\n",
    "            nn.ReLU(inplace=True)\n",
    "        )\n",
    "        self.offset_network = nn.Sequential(\n",
    "            nn.Conv2d(outplanes, outplanes, 3, 1, 1),\n",
    "            nn.BatchNorm2d(outplanes),\n",
    "            nn.ReLU(inplace=True),\n",
    "            nn.Conv2d(outplanes, 2, 1),\n",
    "            nn.BatchNorm2d(2),\n",
    "            nn.ReLU(inplace=True)\n",
    "        )\n",
    "        \n",
    "    def forward(self, x):\n",
    "        feature_map, x_pre = self.centerNet_ResNet_backbone(x)\n",
    "        hm = self.heatmap_network(feature_map)\n",
    "        sz = self.size_network(feature_map)\n",
    "        os = self.offset_network(feature_map)\n",
    "        return x_pre, hm, sz, os"
   ]
  },
  {
   "cell_type": "code",
   "execution_count": 745,
   "id": "06f953a4-2d96-4c49-adab-475bd361c3b2",
   "metadata": {},
   "outputs": [],
   "source": [
    "centerNet_Network = CenterNet_Network(num_classes=3, downsample=4)"
   ]
  },
  {
   "cell_type": "code",
   "execution_count": 746,
   "id": "2fe0584f-e9e2-4087-ab07-0a9171adbf79",
   "metadata": {},
   "outputs": [
    {
     "data": {
      "text/plain": [
       "(torch.Size([5, 3, 512, 512]),\n",
       " torch.Size([5, 3, 128, 128]),\n",
       " torch.Size([5, 2, 128, 128]),\n",
       " torch.Size([5, 2, 128, 128]))"
      ]
     },
     "execution_count": 746,
     "metadata": {},
     "output_type": "execute_result"
    }
   ],
   "source": [
    "x_pre, hm,sz,os = centerNet_Network(x)\n",
    "x_pre.shape, hm.shape,sz.shape,os.shape"
   ]
  },
  {
   "cell_type": "code",
   "execution_count": 913,
   "id": "f4a2bc70-4c0a-4816-82a3-a553e4bedffc",
   "metadata": {},
   "outputs": [],
   "source": [
    "class focal_loss(nn.Module):\n",
    "    def __init__(self, alpha = 2, beta = 4, reduction = 'sum', N = 1):\n",
    "        super(focal_loss, self).__init__()\n",
    "        self.alpha = alpha\n",
    "        self.beta = beta\n",
    "        self.reduction = 'sum'\n",
    "        self.N = N\n",
    "        \n",
    "    def forward(self, pred_hm, gt_hm):\n",
    "        focalLoss = (1-gt_hm).pow(self.beta)*pred_hm.pow(self.alpha)*torch.log(1 - pred_hm) + \\\n",
    "                    (gt_hm).pow(self.beta)*(1 - pred_hm).pow(self.alpha)*torch.log(pred_hm)\n",
    "        if self.reduction == 'sum':\n",
    "            return -torch.sum(focalLoss)\n",
    "        else:\n",
    "            return -torch.sum(focalLoss)/self.N"
   ]
  },
  {
   "cell_type": "code",
   "execution_count": 914,
   "id": "86aacb7e-cfd9-464d-982f-2c98c9416c57",
   "metadata": {},
   "outputs": [],
   "source": [
    "class CenterNet(nn.Module):\n",
    "    def __init__(self, num_classes = 1, downsample = 4, mode = 'train'):\n",
    "        super(CenterNet, self).__init__()\n",
    "        self.num_classes = num_classes\n",
    "        self.downsample = downsample\n",
    "        self.mode = mode\n",
    "        # centerNet neural network\n",
    "        self.centerNet = CenterNet_Network(num_classes, downsample)\n",
    "        \n",
    "    def forward(self, x, target = None):\n",
    "        batch, C, H, W = x.shape\n",
    "        # x_pre, heatmap, size, offset\n",
    "        x_pre,hm,sz,os = centerNet_Network(x)\n",
    "        hm_peaks = self._nms(hm)\n",
    "        hm_peaks_permute = hm_peaks.permute(0,2,3,1)\n",
    "        sz_permute = sz.permute(0,2,3,1)\n",
    "        os_permute = os.permute(0,2,3,1)\n",
    "        result = []\n",
    "        losses = []\n",
    "\n",
    "        for img_index in range(batch):\n",
    "            img_hm_peaks = hm_peaks_permute[img_index] # single image heatmap\n",
    "            img_sz = sz_permute[img_index] # single image size\n",
    "            img_os = os_permute[img_index] # single image offset\n",
    "            values, idxs = img_hm_peaks.max(dim = 2)\n",
    "            keep = values>0\n",
    "\n",
    "            img_points =torch.nonzero(values) # center point\n",
    "            img_scores = values[keep] # scores\n",
    "            img_idxs = idxs[keep] # classes\n",
    "            img_sz = img_sz[keep] # size\n",
    "            img_os = img_os[keep] # offset\n",
    "\n",
    "            xymin = img_points*self.downsample + img_os - img_sz/2\n",
    "            xymax = img_points*self.downsample + img_os + img_sz/2\n",
    "            img_bboxes = torch.hstack((xymin, xymax))\n",
    "            img_bboxes = self._bbox_clamp(img_bboxes, (H,W))\n",
    "\n",
    "            result.append(\n",
    "                dict(classes = img_idxs, \n",
    "                     scores = img_scores,\n",
    "                     bboxes = img_bboxes,\n",
    "                     heatmap = hm,\n",
    "                     heatmap_peaks = hm_peaks,\n",
    "                     size = sz,\n",
    "                     offset = os,\n",
    "                     img_cpoints = img_points,\n",
    "                     img_size = img_sz,\n",
    "                     img_offset = img_os)\n",
    "            )\n",
    "            \n",
    "        if self.mode == 'train':\n",
    "            # training mode\n",
    "            assert target is not None\n",
    "            # initialize the ground truth\n",
    "            gt_hm = torch.zeros_like(hm)\n",
    "            hm_H,hm_W = hm.shape[-2:]\n",
    "            hm_index = torch.stack(torch.meshgrid((torch.arange(hm_H),torch.arange(hm_W))),-1)\n",
    "            gt_sz = torch.zeros_like(sz_permute)\n",
    "            gt_os = torch.zeros_like(os_permute)\n",
    "            for img_index in range(batch):\n",
    "                img_target = target[img_index]\n",
    "                gt_hm_cpoitns, gt_sizes, gt_offsets = self.bbox2point_size_offset(img_target, self.downsample)\n",
    "                for i in range(len(img_target['classes'])):\n",
    "                    img_cls = int(img_target['classes'][i])\n",
    "                    x_idx,y_idx = int(gt_hm_cpoitns[i][0]),int(gt_hm_cpoitns[i][1])\n",
    "                    \n",
    "                    gt_sz[img_index][x_idx,y_idx] = gt_sizes[i] # The ground truth of image size\n",
    "                    \n",
    "                    gt_os[img_index][x_idx,y_idx] = gt_offsets[i] # The ground truth of image local offset\n",
    "                    \n",
    "                    sigma = float(torch.max(gt_sizes[i]))/self.downsample\n",
    "                    gauss_kernel = self.gauss2D(hm_index, gt_hm_cpoitns[i], sigma)\n",
    "                    gt_hm[img_index][img_cls] = torch.max(gt_hm[img_index][img_cls], gauss_kernel)\n",
    "            # supervision acts only at keypoints. \n",
    "            keep_train = torch.sum(gt_hm.permute(0,2,3,1) == 1,-1) > 0\n",
    "            pred_sz = sz_permute[keep_train]\n",
    "            pred_os = os_permute[keep_train]\n",
    "            N = len(gt_sz[keep_train])\n",
    "            \n",
    "            size_loss = F.smooth_l1_loss(pred_sz, gt_sz[keep_train])/N\n",
    "            offset_loss = F.smooth_l1_loss(pred_os, gt_os[keep_train])/N\n",
    "            \n",
    "            focalLoss = focal_loss(2,4,'mean',N)\n",
    "            point_focal_loss = focalLoss(hm, gt_hm)\n",
    "            \n",
    "            \n",
    "            \n",
    "            losses = dict(\n",
    "                point_focal_loss = point_focal_loss,\n",
    "                size_loss = size_loss,\n",
    "                offset_loss = offset_loss,\n",
    "                gt_hm = gt_hm,\n",
    "                gt_sz = gt_sz,\n",
    "                gt_os = gt_os)\n",
    "            return result, losses\n",
    "            \n",
    "            \n",
    "    def _nms(self, hm):\n",
    "        # serve as nms, choose peak of heatmap(keypoints)\n",
    "        pool = nn.MaxPool2d(3,1,1)\n",
    "        hmax = pool(hm)\n",
    "        keep = (hm == hmax).float()\n",
    "        return hm * keep\n",
    "                                         \n",
    "    def _bbox_clamp(self, bbox, imsize):\n",
    "        bbox[:,[0,2]] = torch.clamp(bbox[:,[0,2]], 0, imsize[1])\n",
    "        bbox[:,[1,3]] = torch.clamp(bbox[:,[1,3]], 0, imsize[0])\n",
    "        return bbox    \n",
    "    \n",
    "    def gauss2D(self, hm_index, gt_hm_cpoint, sigma = 10):\n",
    "        gauss_kernel = (-(hm_index - gt_hm_cpoint).pow(2).sum(-1)/(2*sigma)).exp()\n",
    "        return gauss_kernel\n",
    "    \n",
    "    def bbox2point_size_offset(self, img_target, downsample = 4):\n",
    "        img_bboxes = img_target['bboxes']\n",
    "        xmin, ymin = img_bboxes[:, 0], img_bboxes[:, 1]\n",
    "        xmax, ymax = img_bboxes[:, 2], img_bboxes[:, 3]\n",
    "        gt_img_cpoints = torch.stack([(xmin+xmax)/2, (ymin+ymax)/2],-1)\n",
    "        gt_hm_cpoitns = torch.floor(gt_img_cpoints/downsample)\n",
    "        gt_sizes = torch.stack([xmax-xmin, ymax-ymin],-1)\n",
    "        gt_offsets =  gt_img_cpoints/downsample - gt_hm_cpoitns\n",
    "        return gt_hm_cpoitns, gt_sizes, gt_offsets"
   ]
  },
  {
   "cell_type": "code",
   "execution_count": 915,
   "id": "5f9e907a-e259-4dfd-a3b5-ac88a94450e0",
   "metadata": {},
   "outputs": [],
   "source": [
    "centerNet = CenterNet(3,mode='test')"
   ]
  },
  {
   "cell_type": "code",
   "execution_count": 916,
   "id": "2feae848-9344-49dc-b3e5-19cbe8d13fba",
   "metadata": {},
   "outputs": [],
   "source": [
    "def nms(hm):\n",
    "    pool = nn.MaxPool2d(3,1,1)\n",
    "    hmax = pool(hm)\n",
    "    keep = (hm == hmax).float()\n",
    "    return hm * keep"
   ]
  },
  {
   "cell_type": "code",
   "execution_count": 917,
   "id": "db2b557a-2c57-4a36-8e3b-b1681c511562",
   "metadata": {},
   "outputs": [
    {
     "data": {
      "text/plain": [
       "torch.Size([5, 3, 128, 128])"
      ]
     },
     "execution_count": 917,
     "metadata": {},
     "output_type": "execute_result"
    }
   ],
   "source": [
    "hm.shape"
   ]
  },
  {
   "cell_type": "code",
   "execution_count": 918,
   "id": "6a2bedee-a5ae-4c35-8d8a-344757ef0bfa",
   "metadata": {},
   "outputs": [],
   "source": [
    "hm_peaks = nms(hm)"
   ]
  },
  {
   "cell_type": "code",
   "execution_count": 919,
   "id": "93d546a1-4870-4b2b-a459-ec1e23de0a9e",
   "metadata": {},
   "outputs": [
    {
     "data": {
      "text/plain": [
       "torch.Size([128, 128, 3])"
      ]
     },
     "execution_count": 919,
     "metadata": {},
     "output_type": "execute_result"
    }
   ],
   "source": [
    "img_hm_peaks = hm_peaks.permute(0,2,3,1)[0]\n",
    "img_hm_peaks.shape"
   ]
  },
  {
   "cell_type": "code",
   "execution_count": 920,
   "id": "1c32b4d3-f399-4fc9-9e7e-beb77582e83e",
   "metadata": {},
   "outputs": [],
   "source": [
    "values, idxs = img_hm_peaks.max(dim = 2)"
   ]
  },
  {
   "cell_type": "code",
   "execution_count": 921,
   "id": "4d581fc7-e495-446e-8d12-291ac75ae03b",
   "metadata": {},
   "outputs": [],
   "source": [
    "img_points =torch.nonzero(values)"
   ]
  },
  {
   "cell_type": "code",
   "execution_count": 922,
   "id": "0e000f71-b8d2-4b9a-bbb4-b37905180f06",
   "metadata": {},
   "outputs": [],
   "source": [
    "keep = values>0"
   ]
  },
  {
   "cell_type": "code",
   "execution_count": 923,
   "id": "7b95d283-02db-47db-a2bf-f4e41252e395",
   "metadata": {},
   "outputs": [
    {
     "data": {
      "text/plain": [
       "tensor([0.7636, 0.6610, 0.8977,  ..., 0.6933, 0.8259, 0.7877],\n",
       "       grad_fn=<IndexBackward>)"
      ]
     },
     "execution_count": 923,
     "metadata": {},
     "output_type": "execute_result"
    }
   ],
   "source": [
    "img_scores = values[values>0]\n",
    "img_scores"
   ]
  },
  {
   "cell_type": "code",
   "execution_count": 924,
   "id": "99c30e83-9d12-4fea-b289-ecbb52b89138",
   "metadata": {},
   "outputs": [],
   "source": [
    "img_idxs = idxs[values>0] # classes"
   ]
  },
  {
   "cell_type": "code",
   "execution_count": 925,
   "id": "7b250708-d993-46d1-a890-8b16d2afa4e8",
   "metadata": {},
   "outputs": [],
   "source": [
    "sz_permute = sz.permute(0,2,3,1)\n",
    "os_permute = os.permute(0,2,3,1)"
   ]
  },
  {
   "cell_type": "code",
   "execution_count": 926,
   "id": "0f3d1711-c112-4c06-9bfe-58c038a7b38c",
   "metadata": {},
   "outputs": [],
   "source": [
    "img_sz = sz_permute[0][keep] # single image size\n",
    "img_os = os_permute[0][keep] # single image offset"
   ]
  },
  {
   "cell_type": "code",
   "execution_count": 927,
   "id": "b9e4728a-463c-404b-ab08-c7f19c676347",
   "metadata": {},
   "outputs": [],
   "source": [
    "result = centerNet(x)"
   ]
  },
  {
   "cell_type": "code",
   "execution_count": 928,
   "id": "09bc55e4-6aaf-47bd-9783-f0a10643b83e",
   "metadata": {},
   "outputs": [
    {
     "data": {
      "text/plain": [
       "[{'classes': tensor([0., 1., 2., 0., 1.]),\n",
       "  'bboxes': tensor([[ 50.,  70., 150., 345.],\n",
       "          [ 10.,  45., 124., 145.],\n",
       "          [ 78.,  54., 230., 310.],\n",
       "          [ 87.,  49., 400., 310.],\n",
       "          [125., 214., 340., 440.]])},\n",
       " {'classes': tensor([1., 0., 2., 1., 1.]),\n",
       "  'bboxes': tensor([[ 10.,  70., 250., 345.],\n",
       "          [100.,  45., 124., 145.],\n",
       "          [178.,  54., 230., 310.],\n",
       "          [187.,  49., 400., 310.],\n",
       "          [145., 214., 340., 440.]])},\n",
       " {'classes': tensor([1., 0., 2., 1., 1.]),\n",
       "  'bboxes': tensor([[ 10.,  70., 250., 345.],\n",
       "          [100.,  45., 124., 145.],\n",
       "          [178.,  54., 230., 310.],\n",
       "          [187.,  49., 400., 310.],\n",
       "          [145., 214., 340., 440.]])},\n",
       " {'classes': tensor([1., 0., 2., 1., 1.]),\n",
       "  'bboxes': tensor([[ 10.,  70., 250., 345.],\n",
       "          [100.,  45., 124., 145.],\n",
       "          [178.,  54., 230., 310.],\n",
       "          [187.,  49., 400., 310.],\n",
       "          [145., 214., 340., 440.]])},\n",
       " {'classes': tensor([1., 0., 2., 1., 1.]),\n",
       "  'bboxes': tensor([[ 10.,  70., 250., 345.],\n",
       "          [100.,  45., 124., 145.],\n",
       "          [178.,  54., 230., 310.],\n",
       "          [187.,  49., 400., 310.],\n",
       "          [145., 214., 340., 440.]])}]"
      ]
     },
     "execution_count": 928,
     "metadata": {},
     "output_type": "execute_result"
    }
   ],
   "source": [
    "target = [{'classes':torch.Tensor([0,1,2,0,1]),\n",
    "           'bboxes':torch.FloatTensor([[50,70,150,345],\n",
    "                                  [10,45,124,145],\n",
    "                                  [78,54,230,310],\n",
    "                                  [87,49,400,310],\n",
    "                                  [125,214,340,440]])},\n",
    "          {'classes':torch.Tensor([1,0,2,1,1]),\n",
    "           'bboxes':torch.FloatTensor([[10,70,250,345],\n",
    "                                  [100,45,124,145],\n",
    "                                  [178,54,230,310],\n",
    "                                  [187,49,400,310],\n",
    "                                  [145,214,340,440]])},\n",
    "         {'classes':torch.Tensor([1,0,2,1,1]),\n",
    "           'bboxes':torch.FloatTensor([[10,70,250,345],\n",
    "                                  [100,45,124,145],\n",
    "                                  [178,54,230,310],\n",
    "                                  [187,49,400,310],\n",
    "                                  [145,214,340,440]])},\n",
    "         {'classes':torch.Tensor([1,0,2,1,1]),\n",
    "           'bboxes':torch.FloatTensor([[10,70,250,345],\n",
    "                                  [100,45,124,145],\n",
    "                                  [178,54,230,310],\n",
    "                                  [187,49,400,310],\n",
    "                                  [145,214,340,440]])},\n",
    "         {'classes':torch.Tensor([1,0,2,1,1]),\n",
    "           'bboxes':torch.FloatTensor([[10,70,250,345],\n",
    "                                  [100,45,124,145],\n",
    "                                  [178,54,230,310],\n",
    "                                  [187,49,400,310],\n",
    "                                  [145,214,340,440]])}]\n",
    "target"
   ]
  },
  {
   "cell_type": "code",
   "execution_count": 929,
   "id": "bf851d4a-113c-4291-b2e6-575146b44e04",
   "metadata": {},
   "outputs": [
    {
     "data": {
      "text/plain": [
       "tensor([[ 50.,  70., 150., 345.],\n",
       "        [ 10.,  45., 124., 145.],\n",
       "        [ 78.,  54., 230., 310.],\n",
       "        [ 87.,  49., 400., 310.],\n",
       "        [125., 214., 340., 440.]])"
      ]
     },
     "execution_count": 929,
     "metadata": {},
     "output_type": "execute_result"
    }
   ],
   "source": [
    "img_target['bboxes']"
   ]
  },
  {
   "cell_type": "code",
   "execution_count": 930,
   "id": "541c75dc-e8f3-4813-8106-6931f08d16fa",
   "metadata": {},
   "outputs": [],
   "source": [
    "# generate origin heatmap\n",
    "num_classes = 3\n",
    "downsample = 4\n",
    "gt_hm = torch.zeros_like(hm)\n",
    "hm_H,hm_W = hm.shape[-2:]\n",
    "hm_index = torch.stack(torch.meshgrid((torch.arange(hm_H),torch.arange(hm_W))),-1)\n",
    "\n",
    "img_target = target[0]\n",
    "# generate basic ground truth\n",
    "centerPoint = torch.FloatTensor([47,39])\n",
    "gt_size = torch.FloatTensor([147,139]) # ground truth size: heigth, width\n",
    "gt_hm_cpoint = torch.floor(centerPoint/downsample)\n",
    "gt_offset = centerPoint/downsample - gt_hm_cpoint # ground truth offset\n",
    "\n",
    "\n",
    "# generate gaussian kernel\n",
    "'''\n",
    "    center point\n",
    "    radius\n",
    "    sigma\n",
    "'''\n",
    "\n",
    "def gauss2D(hm_index, gt_hm_cpoint, sigma = 10):\n",
    "    gauss_kernel = (-(hm_index - gt_hm_cpoint).pow(2).sum(-1)/(2*sigma**2)).exp()\n",
    "    return gauss_kernel.detach()\n",
    "gauss_kernel = gauss2D(hm_index, gt_hm_cpoint, sigma = 10)"
   ]
  },
  {
   "cell_type": "code",
   "execution_count": 931,
   "id": "33d470e1-6a01-4525-912c-e80f2dffb0cf",
   "metadata": {},
   "outputs": [
    {
     "data": {
      "text/plain": [
       "<matplotlib.image.AxesImage at 0x7fa6d0ff5280>"
      ]
     },
     "execution_count": 931,
     "metadata": {},
     "output_type": "execute_result"
    },
    {
     "data": {
      "image/png": "[encoded data removed]",
      "text/plain": [
       "<Figure size 432x288 with 1 Axes>"
      ]
     },
     "metadata": {
      "needs_background": "light"
     },
     "output_type": "display_data"
    }
   ],
   "source": [
    "plt.imshow(gauss_kernel)"
   ]
  },
  {
   "cell_type": "code",
   "execution_count": 932,
   "id": "9ec4c462-7c3e-4bc6-82c1-ed624a04c4a4",
   "metadata": {},
   "outputs": [],
   "source": [
    "img_bboxes = img_target['bboxes']"
   ]
  },
  {
   "cell_type": "code",
   "execution_count": null,
   "id": "9a71b455-ce58-45a8-9152-22d026c193e5",
   "metadata": {},
   "outputs": [],
   "source": []
  },
  {
   "cell_type": "code",
   "execution_count": 933,
   "id": "76ae6bf9-43e1-4469-9c36-c03b2a2679ae",
   "metadata": {},
   "outputs": [],
   "source": [
    "def bbox2point_size_offset(img_target, downsample = 4):\n",
    "    img_bboxes = img_target['bboxes']\n",
    "    xmin, ymin = img_bboxes[:, 0], img_bboxes[:, 1]\n",
    "    xmax, ymax = img_bboxes[:, 2], img_bboxes[:, 3]\n",
    "    gt_img_cpoints = torch.stack([(xmin+xmax)/2, (ymin+ymax)/2],-1)\n",
    "    gt_hm_cpoitns = torch.floor(gt_img_cpoints/downsample)\n",
    "    gt_size = torch.stack([xmax-xmin, ymax-ymin],-1)\n",
    "    gt_offsets =  gt_img_cpoints/downsample - gt_hm_cpoitns\n",
    "    return gt_hm_cpoitns, gt_size, gt_offsets"
   ]
  },
  {
   "cell_type": "code",
   "execution_count": 934,
   "id": "16b736d2-70a5-4d43-9a26-491af555571d",
   "metadata": {},
   "outputs": [
    {
     "data": {
      "text/plain": [
       "tensor([147., 139.])"
      ]
     },
     "execution_count": 934,
     "metadata": {},
     "output_type": "execute_result"
    }
   ],
   "source": [
    "gt_size"
   ]
  },
  {
   "cell_type": "code",
   "execution_count": 935,
   "id": "c9c92634-c842-4a69-9f34-895d5f3658cc",
   "metadata": {},
   "outputs": [],
   "source": [
    "gt_hm_cpoitns, gt_sizes, gt_offsets = bbox2point_size_offset(img_target)"
   ]
  },
  {
   "cell_type": "code",
   "execution_count": 936,
   "id": "5762a30f-0fd6-4924-a9cb-2715261ddf88",
   "metadata": {},
   "outputs": [
    {
     "data": {
      "text/plain": [
       "tensor([[25., 51.],\n",
       "        [16., 23.],\n",
       "        [38., 45.],\n",
       "        [60., 44.],\n",
       "        [58., 81.]])"
      ]
     },
     "execution_count": 936,
     "metadata": {},
     "output_type": "execute_result"
    }
   ],
   "source": [
    "gt_hm_cpoitns"
   ]
  },
  {
   "cell_type": "code",
   "execution_count": 937,
   "id": "92d1d9af-ed3c-4dd2-9ea1-a976dd5eec3d",
   "metadata": {},
   "outputs": [
    {
     "data": {
      "text/plain": [
       "<matplotlib.image.AxesImage at 0x7fa65624f7c0>"
      ]
     },
     "execution_count": 937,
     "metadata": {},
     "output_type": "execute_result"
    },
    {
     "data": {
      "image/png": "[encoded data removed]",
      "text/plain": [
       "<Figure size 432x288 with 1 Axes>"
      ]
     },
     "metadata": {
      "needs_background": "light"
     },
     "output_type": "display_data"
    }
   ],
   "source": [
    "plt.imshow(gauss2D(hm_index, gt_hm_cpoitns[4]))"
   ]
  },
  {
   "cell_type": "code",
   "execution_count": 938,
   "id": "acbf0c09-9fdc-42f2-ad77-ef8f8503718b",
   "metadata": {},
   "outputs": [
    {
     "data": {
      "text/plain": [
       "tensor([147., 139.])"
      ]
     },
     "execution_count": 938,
     "metadata": {},
     "output_type": "execute_result"
    }
   ],
   "source": [
    "gt_size"
   ]
  },
  {
   "cell_type": "code",
   "execution_count": 939,
   "id": "53838b1c-f68e-4020-b799-356350438d67",
   "metadata": {},
   "outputs": [
    {
     "data": {
      "text/plain": [
       "torch.Size([5, 3, 128, 128])"
      ]
     },
     "execution_count": 939,
     "metadata": {},
     "output_type": "execute_result"
    }
   ],
   "source": [
    "gt_hm.shape"
   ]
  },
  {
   "cell_type": "code",
   "execution_count": 940,
   "id": "0d67f2bb-2133-4654-bf6d-266848c383dd",
   "metadata": {},
   "outputs": [
    {
     "data": {
      "text/plain": [
       "[{'classes': tensor([0., 1., 2., 0., 1.]),\n",
       "  'bboxes': tensor([[ 50.,  70., 150., 345.],\n",
       "          [ 10.,  45., 124., 145.],\n",
       "          [ 78.,  54., 230., 310.],\n",
       "          [ 87.,  49., 400., 310.],\n",
       "          [125., 214., 340., 440.]])},\n",
       " {'classes': tensor([1., 0., 2., 1., 1.]),\n",
       "  'bboxes': tensor([[ 10.,  70., 250., 345.],\n",
       "          [100.,  45., 124., 145.],\n",
       "          [178.,  54., 230., 310.],\n",
       "          [187.,  49., 400., 310.],\n",
       "          [145., 214., 340., 440.]])},\n",
       " {'classes': tensor([1., 0., 2., 1., 1.]),\n",
       "  'bboxes': tensor([[ 10.,  70., 250., 345.],\n",
       "          [100.,  45., 124., 145.],\n",
       "          [178.,  54., 230., 310.],\n",
       "          [187.,  49., 400., 310.],\n",
       "          [145., 214., 340., 440.]])},\n",
       " {'classes': tensor([1., 0., 2., 1., 1.]),\n",
       "  'bboxes': tensor([[ 10.,  70., 250., 345.],\n",
       "          [100.,  45., 124., 145.],\n",
       "          [178.,  54., 230., 310.],\n",
       "          [187.,  49., 400., 310.],\n",
       "          [145., 214., 340., 440.]])},\n",
       " {'classes': tensor([1., 0., 2., 1., 1.]),\n",
       "  'bboxes': tensor([[ 10.,  70., 250., 345.],\n",
       "          [100.,  45., 124., 145.],\n",
       "          [178.,  54., 230., 310.],\n",
       "          [187.,  49., 400., 310.],\n",
       "          [145., 214., 340., 440.]])}]"
      ]
     },
     "execution_count": 940,
     "metadata": {},
     "output_type": "execute_result"
    }
   ],
   "source": [
    "target"
   ]
  },
  {
   "cell_type": "code",
   "execution_count": 941,
   "id": "58c615f0-a18c-4312-a06a-882c2c4fa85c",
   "metadata": {},
   "outputs": [],
   "source": [
    "centerNet.mode = 'train'\n",
    "r,l = centerNet(x, target)"
   ]
  },
  {
   "cell_type": "code",
   "execution_count": 942,
   "id": "fc8a6e7b-1c6b-4680-9f05-3f4f76e9c1c3",
   "metadata": {},
   "outputs": [
    {
     "data": {
      "text/plain": [
       "torch.Size([5, 3, 128, 128])"
      ]
     },
     "execution_count": 942,
     "metadata": {},
     "output_type": "execute_result"
    }
   ],
   "source": [
    "hm.shape"
   ]
  },
  {
   "cell_type": "code",
   "execution_count": 943,
   "id": "a869c9f4-3fe6-4088-a7c4-aabbec22e859",
   "metadata": {},
   "outputs": [],
   "source": [
    "keep_train = torch.sum(l['gt_hm'].permute(0,2,3,1) == 1,-1) > 0"
   ]
  },
  {
   "cell_type": "code",
   "execution_count": 944,
   "id": "ccbf8b68-68a5-4ed3-8115-f1ff2ac680a1",
   "metadata": {},
   "outputs": [
    {
     "data": {
      "text/plain": [
       "torch.Size([5, 128, 128])"
      ]
     },
     "execution_count": 944,
     "metadata": {},
     "output_type": "execute_result"
    }
   ],
   "source": [
    "keep_train.shape"
   ]
  },
  {
   "cell_type": "code",
   "execution_count": 945,
   "id": "31e8b19b-342d-4dc1-947f-0e7887b34278",
   "metadata": {},
   "outputs": [
    {
     "data": {
      "text/plain": [
       "torch.Size([5, 128, 128])"
      ]
     },
     "execution_count": 945,
     "metadata": {},
     "output_type": "execute_result"
    }
   ],
   "source": [
    "keep_train.shape"
   ]
  },
  {
   "cell_type": "code",
   "execution_count": 946,
   "id": "ee137de8-97bf-48fb-af17-029bbbef4058",
   "metadata": {},
   "outputs": [
    {
     "data": {
      "text/plain": [
       "torch.Size([5, 3, 128, 128])"
      ]
     },
     "execution_count": 946,
     "metadata": {},
     "output_type": "execute_result"
    }
   ],
   "source": [
    "l['gt_hm'].shape"
   ]
  },
  {
   "cell_type": "code",
   "execution_count": 947,
   "id": "28507a04-ec18-4e17-9550-e67c26c727d2",
   "metadata": {},
   "outputs": [
    {
     "data": {
      "text/plain": [
       "torch.Size([25, 2])"
      ]
     },
     "execution_count": 947,
     "metadata": {},
     "output_type": "execute_result"
    }
   ],
   "source": [
    "l['gt_sz'][keep_train].shape"
   ]
  },
  {
   "cell_type": "code",
   "execution_count": 948,
   "id": "43e5bf8b-35a6-4d19-aaf5-813e1747c7fa",
   "metadata": {},
   "outputs": [
    {
     "data": {
      "text/plain": [
       "torch.Size([25, 2])"
      ]
     },
     "execution_count": 948,
     "metadata": {},
     "output_type": "execute_result"
    }
   ],
   "source": [
    "l['gt_os'][keep_train].shape"
   ]
  },
  {
   "cell_type": "code",
   "execution_count": 949,
   "id": "20aa07e8-ff50-49e2-8c5c-3660d5d7aeea",
   "metadata": {},
   "outputs": [
    {
     "data": {
      "text/plain": [
       "tensor(186.8232, grad_fn=<SmoothL1LossBackward>)"
      ]
     },
     "execution_count": 949,
     "metadata": {},
     "output_type": "execute_result"
    }
   ],
   "source": [
    "F.smooth_l1_loss(r[0]['size'].permute(0,2,3,1)[keep_train], l['gt_sz'][keep_train])"
   ]
  },
  {
   "cell_type": "code",
   "execution_count": 950,
   "id": "388e2cfe-c976-45aa-a90c-3a9a8f7a8feb",
   "metadata": {},
   "outputs": [
    {
     "data": {
      "text/plain": [
       "tensor(0.1212, grad_fn=<SmoothL1LossBackward>)"
      ]
     },
     "execution_count": 950,
     "metadata": {},
     "output_type": "execute_result"
    }
   ],
   "source": [
    "F.smooth_l1_loss(r[0]['offset'].permute(0,2,3,1)[keep_train], l['gt_os'][keep_train])"
   ]
  },
  {
   "cell_type": "code",
   "execution_count": 951,
   "id": "5288f77b-c06e-40b2-9558-242fa4c6e308",
   "metadata": {},
   "outputs": [],
   "source": [
    "gt_hm =l['gt_hm']\n",
    "pred_hm = r[0]['heatmap']\n",
    "alpha = 2\n",
    "beta = 4\n",
    "hm_loss = (1-gt_hm).pow(beta)*pred_hm.pow(alpha)*torch.log(1 - pred_hm) + \\\n",
    "            (gt_hm).pow(beta)*(1 - pred_hm).pow(alpha)*torch.log(pred_hm)"
   ]
  },
  {
   "cell_type": "code",
   "execution_count": 952,
   "id": "29cd1dfe-c4aa-4e34-b09b-3a6fe9f6de8e",
   "metadata": {},
   "outputs": [
    {
     "data": {
      "text/plain": [
       "tensor(-78134.2578, grad_fn=<SumBackward0>)"
      ]
     },
     "execution_count": 952,
     "metadata": {},
     "output_type": "execute_result"
    }
   ],
   "source": [
    "hm_loss.sum()"
   ]
  },
  {
   "cell_type": "code",
   "execution_count": 953,
   "id": "42df00e5-3782-4981-b5c9-ec2843ca06ef",
   "metadata": {},
   "outputs": [],
   "source": [
    "class focal_loss(nn.Module):\n",
    "    def __init__(self, alpha = 2, beta = 4, reduction = 'sum', N = 1):\n",
    "        super(focal_loss, self).__init__()\n",
    "        self.alpha = alpha\n",
    "        self.beta = beta\n",
    "        self.reduction = 'sum'\n",
    "        self.N = N\n",
    "        \n",
    "    def forward(self, pred_hm, gt_hm):\n",
    "        focalLoss = (1-gt_hm).pow(self.beta)*pred_hm.pow(self.alpha)*torch.log(1 - pred_hm) + \\\n",
    "                    (gt_hm).pow(self.beta)*(1 - pred_hm).pow(self.alpha)*torch.log(pred_hm)\n",
    "        if self.reduction == 'sum':\n",
    "            return -torch.sum(focalLoss)\n",
    "        else:\n",
    "            return -torch.sum(focalLoss)/N"
   ]
  },
  {
   "cell_type": "code",
   "execution_count": 954,
   "id": "56399966-336e-4f83-895a-39a3f992b61a",
   "metadata": {},
   "outputs": [
    {
     "data": {
      "text/plain": [
       "torch.Size([5, 3, 128, 128])"
      ]
     },
     "execution_count": 954,
     "metadata": {},
     "output_type": "execute_result"
    }
   ],
   "source": [
    "r[0]['heatmap'].shape"
   ]
  },
  {
   "cell_type": "code",
   "execution_count": null,
   "id": "72735d83-c919-4ec4-a44d-4edc46a40667",
   "metadata": {},
   "outputs": [],
   "source": []
  },
  {
   "cell_type": "code",
   "execution_count": null,
   "id": "feef1543-38ae-4600-af33-2762e9d5e76d",
   "metadata": {},
   "outputs": [],
   "source": []
  },
  {
   "cell_type": "code",
   "execution_count": null,
   "id": "1d0c84ef-ae5c-4976-b74d-91959ba78242",
   "metadata": {},
   "outputs": [],
   "source": []
  },
  {
   "cell_type": "code",
   "execution_count": null,
   "id": "e2e0c4e1-83a3-4469-89ff-1b2b202f1079",
   "metadata": {},
   "outputs": [],
   "source": []
  },
  {
   "cell_type": "code",
   "execution_count": null,
   "id": "058576a5-a848-4de2-9430-1df9ea5e94cc",
   "metadata": {},
   "outputs": [],
   "source": []
  },
  {
   "cell_type": "code",
   "execution_count": null,
   "id": "3239dd0d-d0f8-46c3-8a03-f8a2da83bd7b",
   "metadata": {},
   "outputs": [],
   "source": []
  },
  {
   "cell_type": "code",
   "execution_count": null,
   "id": "26dbc028-8893-437c-b678-a238facbeb66",
   "metadata": {},
   "outputs": [],
   "source": []
  },
  {
   "cell_type": "code",
   "execution_count": null,
   "id": "2c494785-db9a-4b83-b65b-ef59e0357989",
   "metadata": {},
   "outputs": [],
   "source": []
  },
  {
   "cell_type": "code",
   "execution_count": null,
   "id": "eae8296c-7d04-4f93-adef-cb221d29fa27",
   "metadata": {},
   "outputs": [],
   "source": []
  },
  {
   "cell_type": "code",
   "execution_count": null,
   "id": "88b3653d-3adf-4de1-a0e4-d50a97ac7bb5",
   "metadata": {},
   "outputs": [],
   "source": []
  },
  {
   "cell_type": "code",
   "execution_count": null,
   "id": "9a415972-ad09-48ed-9253-aa9c40a69e9d",
   "metadata": {},
   "outputs": [],
   "source": []
  },
  {
   "cell_type": "code",
   "execution_count": null,
   "id": "1be9a557-d4a1-40f4-a799-e09028c00658",
   "metadata": {},
   "outputs": [],
   "source": []
  },
  {
   "cell_type": "code",
   "execution_count": null,
   "id": "d13b892c-2950-482e-b931-0106e74aac49",
   "metadata": {},
   "outputs": [],
   "source": []
  },
  {
   "cell_type": "code",
   "execution_count": null,
   "id": "8ae3a104-81fb-4712-8e3f-33235f0f117d",
   "metadata": {},
   "outputs": [],
   "source": []
  },
  {
   "cell_type": "code",
   "execution_count": null,
   "id": "93c8b4c2-0ca6-4229-a2c8-eb09888c862b",
   "metadata": {},
   "outputs": [],
   "source": []
  },
  {
   "cell_type": "code",
   "execution_count": null,
   "id": "76ebdd33-3cc9-453a-a138-3cab368c0c45",
   "metadata": {},
   "outputs": [],
   "source": []
  },
  {
   "cell_type": "code",
   "execution_count": null,
   "id": "910aa844-9cd0-4ba3-ba17-d9717dd4090f",
   "metadata": {},
   "outputs": [],
   "source": []
  }
 ],
 "metadata": {
  "kernelspec": {
   "display_name": "Python 3",
   "language": "python",
   "name": "python3"
  },
  "language_info": {
   "codemirror_mode": {
    "name": "ipython",
    "version": 3
   },
   "file_extension": ".py",
   "mimetype": "text/x-python",
   "name": "python",
   "nbconvert_exporter": "python",
   "pygments_lexer": "ipython3",
   "version": "3.8.5"
  }
 },
 "nbformat": 4,
 "nbformat_minor": 5
}
