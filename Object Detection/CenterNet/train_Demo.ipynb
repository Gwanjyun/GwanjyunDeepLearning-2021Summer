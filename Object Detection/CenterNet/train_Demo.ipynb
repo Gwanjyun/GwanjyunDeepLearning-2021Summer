{
 "cells": [
  {
   "cell_type": "code",
   "execution_count": 1,
   "id": "3b95657e-1fb3-4d56-9624-6d69ba299ec2",
   "metadata": {},
   "outputs": [],
   "source": [
    "import torch\n",
    "import torch.nn as nn\n",
    "import torch.optim as optim\n",
    "import torch.nn.functional as F\n",
    "\n",
    "import torchvision\n",
    "import math\n",
    "# import model\n",
    "from model import CenterNet,focal_loss"
   ]
  },
  {
   "cell_type": "code",
   "execution_count": 2,
   "id": "97738915-b453-4ec3-95ee-b6f85c9a510b",
   "metadata": {},
   "outputs": [],
   "source": [
    "use_cuda = True\n",
    "device = torch.device('cuda:4' if use_cuda else 'cpu')\n",
    "x = torch.Tensor([0]).cuda(device)"
   ]
  },
  {
   "cell_type": "code",
   "execution_count": 25,
   "id": "9c0310ee-37f6-4089-b17b-dbdeb82ef5fb",
   "metadata": {},
   "outputs": [
    {
     "data": {
      "text/plain": [
       "'train'"
      ]
     },
     "execution_count": 25,
     "metadata": {},
     "output_type": "execute_result"
    }
   ],
   "source": [
    "centerNet = CenterNet(3)\n",
    "centerNet.to(device)\n",
    "centerNet.mode"
   ]
  },
  {
   "cell_type": "code",
   "execution_count": 26,
   "id": "4d2f2ce0-d16f-436c-abbc-bfbab65f4e7a",
   "metadata": {},
   "outputs": [],
   "source": [
    "x = torch.randn(5,3,512,512)"
   ]
  },
  {
   "cell_type": "code",
   "execution_count": 27,
   "id": "13605732-e111-43c8-bb29-1b8d53fc7fea",
   "metadata": {},
   "outputs": [],
   "source": [
    "target = []\n",
    "for i in range(x.shape[0]):\n",
    "    target.append(\n",
    "        dict(\n",
    "            classes = torch.Tensor([1,2,1,0,1]),\n",
    "            bboxes = torch.FloatTensor([[10,70,250,345],\n",
    "                                  [100,45,124,145],\n",
    "                                  [178,54,230,310],\n",
    "                                  [187,49,400,310],\n",
    "                                  [145,214,340,440]])\n",
    "        )\n",
    "    )"
   ]
  },
  {
   "cell_type": "code",
   "execution_count": 28,
   "id": "bac872e6-f873-4ce6-a6bf-e1d66dae1b58",
   "metadata": {
    "tags": []
   },
   "outputs": [],
   "source": [
    "x = x.cuda(device)"
   ]
  },
  {
   "cell_type": "code",
   "execution_count": 29,
   "id": "3b15c2b0-fef9-4789-b562-2a15dec42b0a",
   "metadata": {
    "tags": []
   },
   "outputs": [
    {
     "name": "stdout",
     "output_type": "stream",
     "text": [
      "CPU times: user 1min 16s, sys: 1.02 s, total: 1min 17s\n",
      "Wall time: 9.35 s\n"
     ]
    }
   ],
   "source": [
    "%%time\n",
    "for i in range(100):\n",
    "    result,losses = centerNet(x,target)"
   ]
  },
  {
   "cell_type": "code",
   "execution_count": 31,
   "id": "2bd69c46-e29e-4799-bc5c-57ff09ab2b32",
   "metadata": {},
   "outputs": [
    {
     "data": {
      "text/plain": [
       "True"
      ]
     },
     "execution_count": 31,
     "metadata": {},
     "output_type": "execute_result"
    }
   ],
   "source": [
    "x.is_cuda"
   ]
  },
  {
   "cell_type": "code",
   "execution_count": 32,
   "id": "8647569d-aefb-4aa3-91ff-a4cebcb2da0d",
   "metadata": {},
   "outputs": [],
   "source": [
    "fl = focal_loss(2,4,'mean',5)"
   ]
  },
  {
   "cell_type": "code",
   "execution_count": 33,
   "id": "9c99aeb1-08fa-4736-ae37-af5e87aaee8a",
   "metadata": {},
   "outputs": [
    {
     "data": {
      "text/plain": [
       "tensor(3440.4829, device='cuda:4', grad_fn=<NegBackward>)"
      ]
     },
     "execution_count": 33,
     "metadata": {},
     "output_type": "execute_result"
    }
   ],
   "source": [
    "fl(losses['heatmap'],losses['heatmap'])"
   ]
  },
  {
   "cell_type": "code",
   "execution_count": null,
   "id": "9ef7d45b-16fd-4b71-8223-2589fa43a463",
   "metadata": {},
   "outputs": [],
   "source": []
  },
  {
   "cell_type": "code",
   "execution_count": null,
   "id": "7370ba0c-80a0-438a-8e95-0b02cf10958d",
   "metadata": {},
   "outputs": [],
   "source": []
  },
  {
   "cell_type": "code",
   "execution_count": null,
   "id": "bf5fb1a8-baec-4f86-acf7-f8d9d6614117",
   "metadata": {},
   "outputs": [],
   "source": []
  }
 ],
 "metadata": {
  "kernelspec": {
   "display_name": "Python 3",
   "language": "python",
   "name": "python3"
  },
  "language_info": {
   "codemirror_mode": {
    "name": "ipython",
    "version": 3
   },
   "file_extension": ".py",
   "mimetype": "text/x-python",
   "name": "python",
   "nbconvert_exporter": "python",
   "pygments_lexer": "ipython3",
   "version": "3.8.5"
  }
 },
 "nbformat": 4,
 "nbformat_minor": 5
}
