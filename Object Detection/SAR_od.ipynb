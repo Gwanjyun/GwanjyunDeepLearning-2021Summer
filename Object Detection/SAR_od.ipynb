{
 "cells": [
  {
   "cell_type": "code",
   "execution_count": 7,
   "id": "c36bf832-f27d-4e6a-ba7a-03f2a2d8534d",
   "metadata": {},
   "outputs": [],
   "source": [
    "import PIL\n",
    "from PIL import Image, ImageDraw, ImageFont\n",
    "import numpy as np\n",
    "import torch\n",
    "import torch.nn as nn\n",
    "import torch.optim as optim\n",
    "from torch.functional import F\n",
    "\n",
    "\n",
    "import torchvision\n",
    "from torchvision.ops import nms\n",
    "from torchvision.ops import RoIPool\n",
    "\n",
    "from torchvision.ops import boxes as box_ops\n",
    "\n",
    "import pandas as pd\n",
    "import os\n",
    "from tqdm.notebook import trange, tqdm\n",
    "import cv2\n",
    "\n",
    "import xml.etree.ElementTree as ET"
   ]
  },
  {
   "cell_type": "code",
   "execution_count": 8,
   "id": "c0b967ef-7e73-4269-8c0b-55ac7c742791",
   "metadata": {},
   "outputs": [],
   "source": [
    "use_cuda = True\n",
    "device = torch.device('cuda:4' if use_cuda else 'cpu')\n",
    "x = torch.Tensor([0]).cuda(device)"
   ]
  },
  {
   "cell_type": "markdown",
   "id": "d10964da-7526-4058-a5e2-ab559afc3eb8",
   "metadata": {},
   "source": [
    "# 数据集读取"
   ]
  },
  {
   "cell_type": "code",
   "execution_count": 13,
   "id": "8198391a-99d9-40a2-90ce-ff7ae99c617d",
   "metadata": {},
   "outputs": [],
   "source": [
    "path = 'data/SAR_Airplane_Recognition_trainData/trainData/'\n",
    "image_path = path + 'images/'\n",
    "gt_path = path + 'gt/'"
   ]
  },
  {
   "cell_type": "code",
   "execution_count": 15,
   "id": "509a854e-88b9-4d9b-a556-4f0ebe3fcd59",
   "metadata": {},
   "outputs": [],
   "source": [
    "gt_sample = ET.parse(gt_path + '1.xml')"
   ]
  },
  {
   "cell_type": "code",
   "execution_count": 30,
   "id": "a3bd2814-647f-482d-b56e-fbef27bad605",
   "metadata": {},
   "outputs": [
    {
     "data": {
      "text/plain": [
       "'1.000000,265.000000'"
      ]
     },
     "execution_count": 30,
     "metadata": {},
     "output_type": "execute_result"
    }
   ],
   "source": [
    "gt_sample.find('objects').find('object').find('points').find('point').text"
   ]
  },
  {
   "cell_type": "code",
   "execution_count": null,
   "id": "3940b362-c029-43d5-8639-2b8ef4d261e4",
   "metadata": {},
   "outputs": [],
   "source": []
  },
  {
   "cell_type": "code",
   "execution_count": null,
   "id": "c629f45d-f38e-4fee-8940-c23124fcef73",
   "metadata": {},
   "outputs": [],
   "source": []
  },
  {
   "cell_type": "code",
   "execution_count": null,
   "id": "99f2e5e5-af72-4406-a224-0d1d30a2763f",
   "metadata": {},
   "outputs": [],
   "source": []
  }
 ],
 "metadata": {
  "kernelspec": {
   "display_name": "Python 3",
   "language": "python",
   "name": "python3"
  },
  "language_info": {
   "codemirror_mode": {
    "name": "ipython",
    "version": 3
   },
   "file_extension": ".py",
   "mimetype": "text/x-python",
   "name": "python",
   "nbconvert_exporter": "python",
   "pygments_lexer": "ipython3",
   "version": "3.8.5"
  }
 },
 "nbformat": 4,
 "nbformat_minor": 5
}
