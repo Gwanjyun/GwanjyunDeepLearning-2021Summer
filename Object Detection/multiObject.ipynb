{
 "cells": [
  {
   "cell_type": "code",
   "execution_count": null,
   "id": "80052a28-cf85-4c97-8742-2d7a8ef973b6",
   "metadata": {},
   "outputs": [],
   "source": [
    "import PIL\n",
    "from PIL import Image, ImageDraw, ImageFont\n",
    "import numpy as np\n",
    "import torch\n",
    "import torch.nn as nn\n",
    "import torch.optim as optim\n",
    "from torch.functional import F\n",
    "\n",
    "\n",
    "import torchvision\n",
    "from torchvision.ops import nms\n",
    "from torchvision.ops import RoIPool\n",
    "\n",
    "from torchvision.ops import boxes as box_ops\n",
    "\n",
    "import pandas as pd\n",
    "import os\n",
    "from tqdm.notebook import trange, tqdm\n",
    "import cv2\n",
    "\n",
    "import xml.etree.ElementTree as ET"
   ]
  }
 ],
 "metadata": {
  "kernelspec": {
   "display_name": "Python 3",
   "language": "python",
   "name": "python3"
  },
  "language_info": {
   "codemirror_mode": {
    "name": "ipython",
    "version": 3
   },
   "file_extension": ".py",
   "mimetype": "text/x-python",
   "name": "python",
   "nbconvert_exporter": "python",
   "pygments_lexer": "ipython3",
   "version": "3.8.5"
  }
 },
 "nbformat": 4,
 "nbformat_minor": 5
}
